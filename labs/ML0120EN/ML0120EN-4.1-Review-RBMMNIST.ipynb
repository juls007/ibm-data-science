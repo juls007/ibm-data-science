{
 "cells": [
  {
   "cell_type": "markdown",
   "metadata": {},
   "source": [
    "<a href=\"https://www.skills.network/\"><img src=\"https://cf-courses-data.s3.us.cloud-object-storage.appdomain.cloud/IBM-DL0120ENedX/labs/Template%20for%20Instructional%20Hands-on%20Labs/images/IDSNlogo.png\" width=\"400px\" align=\"center\"></a>\n",
    "\n",
    "<h1 align=\"center\"><font size=\"5\">RESTRICTED BOLTZMANN MACHINES</font></h1>\n"
   ]
  },
  {
   "cell_type": "markdown",
   "metadata": {},
   "source": [
    "<h3>Introduction</h3>\n",
    "<b>Restricted Boltzmann Machine (RBM):</b>  RBMs are shallow neural nets that learn to reconstruct data by themselves in an unsupervised fashion.  \n",
    "\n",
    "<h4>Why are RBMs important?</h4>\n",
    "An RBM are a basic form of autoencoder.  It can automatically extract <b>meaningful</b> features from a given input.\n",
    "\n",
    "<h4>How does it work?</h4>\n",
    "RBM is a 2 layer neural network. Simply, RBM takes the inputs and translates those into a set of binary values that represents them in the hidden layer. Then, these numbers can be translated back to reconstruct the inputs. Through several forward and backward passes, the RBM will be trained, and a trained RBM can reveal which features are the most important ones when detecting patterns.   \n",
    "\n",
    "<h4>What are the applications of an RBM?</h4>\n",
    "RBM is useful for <a href='http://www.cs.utoronto.ca/~hinton/absps/netflixICML.pdf'>  Collaborative Filtering</a>, dimensionality reduction, classification, regression, feature learning, topic modeling and even <b>Deep Belief Networks</b>.\n",
    "\n",
    "<h4>Is RBM a generative or Discriminative model?</h4>\n",
    "RBM is a generative model. Let me explain it by first, see what is different between discriminative and generative models: \n",
    "\n",
    "<b>Discriminative:</b> Consider a classification problem where we want to learn to distinguish between Sedan cars (y = 1) and SUV cars (y = 0), based on some features of cars. Given a training set, an algorithm like logistic regression tries to find a straight line, or <i>decision boundary</i>, that separates the suv and sedan.  \n",
    "\n",
    "<b>Generative:</b> looking at cars, we can build a model of what Sedan cars look like. Then, looking at SUVs, we can build a separate model of what SUV cars look like. Finally, to classify a new car, we can match the new car against the Sedan model, and match it against the SUV model, to see whether the new car looks more like the SUV or Sedan. \n",
    "\n",
    "Generative Models specify a probability distribution over a dataset of input vectors. We can carry out both supervised and unsupervised tasks with generative models:\n",
    "\n",
    "<ul>\n",
    "    <li>In an unsupervised task, we try to form a model for $P(x)$, where $P$ is the probability given $x$ as an input vector.</li>\n",
    "    <li>In the supervised task, we first form a model for $P(x|y)$, where $P$ is the probability of $x$ given $y$(the label for $x$). For example, if $y = 0$ indicates that a car is an SUV, and $y = 1$ indicates that a car is a sedan, then $p(x|y = 0)$ models the distribution of SUV features, and $p(x|y = 1)$ models the distribution of sedan features. If we manage to find $P(x|y)$ and $P(y)$, then we can use <b>Bayes rule</b> to estimate $P(y|x)$, because:   \n",
    "        $$p(y|x) = \\frac{p(x|y)p(y)}{p(x)}$$</li>\n",
    "</ul>\n",
    "Now the question is, can we build a generative model, and then use it to create synthetic data by directly sampling from the modeled probability distributions? Lets see. \n"
   ]
  },
  {
   "cell_type": "markdown",
   "metadata": {},
   "source": [
    "<h2>Table of Contents</h2>\n",
    "<ol>\n",
    "    <li><a href=\"#ref1\">Initialization</a></li>\n",
    "    <li><a href=\"#ref2\">RBM layers</a></li>\n",
    "    <li><a href=\"#ref3\">What RBM can do after training?</a></li>\n",
    "    <li><a href=\"#ref4\">How to train the model?</a></li>\n",
    "    <li><a href=\"#ref5\">Learned features</a></li>\n",
    "</ol>\n",
    "<p></p>\n",
    "</div>\n",
    "<br>\n",
    "\n",
    "<hr>\n"
   ]
  },
  {
   "cell_type": "markdown",
   "metadata": {},
   "source": [
    "<a id=\"ref1\"></a>\n",
    "\n",
    "<h3>Initialization</h3>\n",
    "\n",
    "First, we have to load the utility file which contains different utility functions that are not connected\n",
    "in any way to the networks presented in the tutorials, but rather help in\n",
    "processing the outputs into a more understandable way.\n"
   ]
  },
  {
   "cell_type": "code",
   "execution_count": null,
   "metadata": {},
   "outputs": [],
   "source": [
    "import urllib.request\n",
    "with urllib.request.urlopen(\"https://cf-courses-data.s3.us.cloud-object-storage.appdomain.cloud/IBMDeveloperSkillsNetwork-DL0120EN-SkillsNetwork/labs/Week4/data/utils.py\") as url:\n",
    "    response = url.read()\n",
    "target = open('utils.py', 'w')\n",
    "target.write(response.decode('utf-8'))\n",
    "target.close()"
   ]
  },
  {
   "cell_type": "markdown",
   "metadata": {},
   "source": [
    "<h2>Installing TensorFlow </h2>\n",
    "\n",
    "We will installing TensorFlow version 2.2.0 and its required prerequistes.  Also installing pillow...\n"
   ]
  },
  {
   "cell_type": "code",
   "execution_count": null,
   "metadata": {},
   "outputs": [],
   "source": [
    "!pip install grpcio==1.24.3\n",
    "!pip install tensorflow==2.2.0\n",
    "!pip install pillow"
   ]
  },
  {
   "cell_type": "markdown",
   "metadata": {},
   "source": [
    "<b>Notice:</b> This notebook has been created with TensorFlow version 2.2, and might not work with other versions. Therefore we check:\n"
   ]
  },
  {
   "cell_type": "code",
   "execution_count": 1,
   "metadata": {},
   "outputs": [],
   "source": [
    "import tensorflow as tf\n",
    "from IPython.display import Markdown, display\n",
    "\n",
    "def printmd(string):\n",
    "    display(Markdown('# <span style=\"color:red\">'+string+'</span>'))\n",
    "\n",
    "\n",
    "if not tf.__version__ == '2.2.0':\n",
    "    printmd('<<<<<!!!!! ERROR !!!! please upgrade to TensorFlow 2.2.0, or restart your Kernel (Kernel->Restart & Clear Output)>>>>>')"
   ]
  },
  {
   "cell_type": "markdown",
   "metadata": {},
   "source": [
    "Now, we load in all the packages that we use to create the net including the TensorFlow package:\n"
   ]
  },
  {
   "cell_type": "code",
   "execution_count": 2,
   "metadata": {},
   "outputs": [],
   "source": [
    "import tensorflow as tf\n",
    "import numpy as np\n",
    "\n",
    "from PIL import Image\n",
    "from utils import tile_raster_images\n",
    "import matplotlib.pyplot as plt\n",
    "%matplotlib inline"
   ]
  },
  {
   "cell_type": "markdown",
   "metadata": {},
   "source": [
    "<hr>\n"
   ]
  },
  {
   "cell_type": "markdown",
   "metadata": {},
   "source": [
    "<a id=\"ref2\"></a>\n",
    "\n",
    "<h3>RBM layers</h3>\n",
    "\n",
    "An RBM has two layers. The first layer of the RBM is called the <b>visible</b> (or input layer). Imagine that our toy example, has only vectors with 7 values, so the visible layer must have $V=7$ input nodes. \n",
    "The second layer is the <b>hidden</b> layer, which has $H$ neurons in our case. Each hidden node takes on values of either 0 or 1 (i.e., $h_i = 1$ or $h_i$ = 0), with a probability that is a logistic function of the inputs it receives from the other $V$ visible units, called for example, $p(h_i = 1)$. For our toy sample, we'll use 2 nodes in the hidden layer, so $H = 2$.\n",
    "\n",
    "<center><img src=\"https://ibm.box.com/shared/static/eu26opvcefgls6vnwuo29uwp0nudmokh.png\" alt=\"RBM Model\" style=\"width: 400px;\"></center>\n"
   ]
  },
  {
   "cell_type": "markdown",
   "metadata": {},
   "source": [
    "Each node in the first layer also has a <b>bias</b>. We will denote the bias as $v_{bias}$, and this single value is shared among the $V$ visible units.\n",
    "\n",
    "The <b>bias</b> of the second is defined similarly as $h_{bias}$, and this single value among the $H$ hidden units.\n"
   ]
  },
  {
   "cell_type": "code",
   "execution_count": 3,
   "metadata": {},
   "outputs": [],
   "source": [
    "v_bias = tf.Variable(tf.zeros([7]), tf.float32)\n",
    "h_bias = tf.Variable(tf.zeros([2]), tf.float32)"
   ]
  },
  {
   "cell_type": "markdown",
   "metadata": {},
   "source": [
    "We have to define weights among the input layer and hidden layer nodes. In the weight matrix, the number of rows are equal to the input nodes, and the number of columns are equal to the output nodes. We define a tensor $\\mathbf{W}$ of shape = (7,2), where the number of visible neurons = 7, and the number of hidden neurons = 2. \n"
   ]
  },
  {
   "cell_type": "code",
   "execution_count": 4,
   "metadata": {},
   "outputs": [],
   "source": [
    "W = tf.constant(np.random.normal(loc=0.0, scale=1.0, size=(7, 2)).astype(np.float32))"
   ]
  },
  {
   "cell_type": "markdown",
   "metadata": {},
   "source": [
    "<hr>\n"
   ]
  },
  {
   "cell_type": "markdown",
   "metadata": {},
   "source": [
    "<a id=\"ref3\"></a>\n",
    "\n",
    "<h3>What RBM can do after training?</h3>\n",
    "Think of RBM as a model that has been trained based on images of a dataset of many SUV and sedan cars. Also, imagine that the RBM network has only two hidden nodes, where one node encodes the weight and, and the other encodes the size.  \n",
    "In a sense, the different configurations represent different cars, where one is an SUV and the other is Sedan.  In a training process, through many forward and backward passes, the RBM adjust its weights to send a stronger signal to either the SUV node (0, 1) or the sedan node (1, 0) in the hidden layer, given the pixels of images. Now, given an SUV in hidden layer, which distribution of pixels should we expect? RBM can give you 2 things. First, it encodes your images in hidden layer. Second, it gives you the probability of observing a case, given some hidden values.\n",
    "\n",
    "<h3>The Inference Process</h3>\n",
    "\n",
    "RBM has two phases:\n",
    "\n",
    "<ul>\n",
    "    <li>Forward Pass</li>  \n",
    "    <li>Backward Pass or Reconstruction</li>\n",
    "</ul>\n",
    "\n",
    "<b>Phase 1) Forward pass:</b>  \n",
    "\n",
    "Input one training sample (one image) $\\mathbf{x}$ through all visible nodes, and pass it to all hidden nodes. Processing happens in each node in the hidden layer. This computation begins by making stochastic decisions about whether to transmit that input or not (i.e. to determine the state of each hidden layer).  First, the probability vector is computed using the input feature vector $\\mathbf{x}$, the weight matrix $\\mathbf{W}$, and the bias term $h_{bias}$, as \n",
    "\n",
    "$p({h_j}|\\mathbf x)= \\sigma(\\sum_{i=1}^V W_{ij} x_i + h_{bias} )$, \n",
    "\n",
    "where $\\sigma(z) = (1+e^{-z})^{-1}$ is the logistic function.\n",
    "\n",
    "So, what does $p({h_j})$ represent? It is the <b>probability distribution</b> of the hidden units. That is, RBM uses inputs $x_i$ to make predictions about hidden node activations. For example, imagine that the hidden node activation values are [0.51 0.84] for the first training item. It tells you that the conditional probability for each hidden neuron for Phase 1 is: \n",
    "\n",
    "$$p(h_{1} = 1|\\mathbf{v}) = 0.51$$\n",
    "$$p(h_{2} = 1|\\mathbf{v}) = 0.84$$\n",
    "\n",
    "As a result, for each row in the training set, vector of probabilities is generated.  In TensorFlow, this is referred to as a `tensor` with a shape of (1,2). \n",
    "\n",
    "We then turn unit $j$ with probability $p(h_{j}|\\mathbf{v})$, and turn it off with probability $1 - p(h_{j}|\\mathbf{v})$ by generating a uniform random number vector $\\mathbf{\\xi}$, and comparing it to the activation probability as \n",
    "\n",
    "<center>If $\\xi_j>p(h_{j}|\\mathbf{v})$, then $h_j=1$, else $h_j=0$.</center>\n",
    "\n",
    "Therefore, the conditional probability of a configuration of $\\mathbf{h}$ given $\\mathbf{v}$ (for a training sample) is:\n",
    "\n",
    "$$p(\\mathbf{h} \\mid \\mathbf{v}) = \\prod_{j=1}^H p(h_j \\mid \\mathbf{v})$$\n",
    "\n",
    "where $H$ is the number of hidden units.\n"
   ]
  },
  {
   "cell_type": "markdown",
   "metadata": {},
   "source": [
    "Before we go further, let's look at a toy example for one case out of all input. Assume that we have a trained RBM, and a very simple input vector, such as [1.0, 0.0, 0.0, 1.0, 0.0, 0.0, 0.0].  \n",
    "Let's see what the output of forward pass would look like:\n"
   ]
  },
  {
   "cell_type": "code",
   "execution_count": 5,
   "metadata": {},
   "outputs": [
    {
     "name": "stdout",
     "output_type": "stream",
     "text": [
      "Input:  tf.Tensor([[1. 0. 0. 1. 0. 0. 0.]], shape=(1, 7), dtype=float32)\n",
      "hb:  tf.Tensor([0.1 0.1], shape=(2,), dtype=float32)\n",
      "w:  tf.Tensor(\n",
      "[[-0.48566777  1.929428  ]\n",
      " [-1.3401561   0.67535615]\n",
      " [-2.1144714   0.15228768]\n",
      " [-0.5127381  -0.99608594]\n",
      " [-0.37364593 -1.1574296 ]\n",
      " [ 0.45931917  0.5817166 ]\n",
      " [ 0.9756406  -0.28232822]], shape=(7, 2), dtype=float32)\n",
      "p(h|v):  tf.Tensor([[0.2893782  0.73756325]], shape=(1, 2), dtype=float32)\n",
      "h0 states: tf.Tensor([[0. 1.]], shape=(1, 2), dtype=float32)\n"
     ]
    }
   ],
   "source": [
    "X = tf.constant([[1.0, 0.0, 0.0, 1.0, 0.0, 0.0, 0.0]], tf.float32)\n",
    "\n",
    "v_state = X\n",
    "print (\"Input: \", v_state)\n",
    "\n",
    "h_bias = tf.constant([0.1, 0.1])\n",
    "print (\"hb: \", h_bias)\n",
    "print (\"w: \", W)\n",
    "\n",
    "# Calculate the probabilities of turning the hidden units on:\n",
    "h_prob = tf.nn.sigmoid(tf.matmul(v_state, W) + h_bias)  #probabilities of the hidden units\n",
    "print (\"p(h|v): \", h_prob)\n",
    "\n",
    "# Draw samples from the distribution:\n",
    "h_state = tf.nn.relu(tf.sign(h_prob - tf.random.uniform(tf.shape(h_prob)))) #states\n",
    "print (\"h0 states:\", h_state)"
   ]
  },
  {
   "cell_type": "markdown",
   "metadata": {},
   "source": [
    "<b>Phase 2) Backward Pass (Reconstruction):</b>\n",
    "The RBM reconstructs data by making several forward and backward passes between the visible and hidden layers.\n",
    "\n",
    "So, in the second phase (i.e. reconstruction phase), the samples from the hidden layer (i.e. $\\mathbf h$) becomes the input in the backward pass. The same weight matrix and visible layer biases are used to passed to the sigmoid function. The reproduced output is a reconstruction which is an approximation of the original input.\n"
   ]
  },
  {
   "cell_type": "code",
   "execution_count": 6,
   "metadata": {},
   "outputs": [
    {
     "name": "stdout",
     "output_type": "stream",
     "text": [
      "b:  tf.Tensor([0.1 0.2 0.1 0.1 0.1 0.2 0.1], shape=(7,), dtype=float32)\n",
      "p(vi∣h):  tf.Tensor(\n",
      "[[0.8838523  0.70585895 0.5627395  0.2898555  0.25780097 0.68604994\n",
      "  0.45454383]], shape=(1, 7), dtype=float32)\n",
      "v probability states:  tf.Tensor([[1. 0. 0. 1. 0. 1. 0.]], shape=(1, 7), dtype=float32)\n"
     ]
    }
   ],
   "source": [
    "vb = tf.constant([0.1, 0.2, 0.1, 0.1, 0.1, 0.2, 0.1])\n",
    "print (\"b: \", vb)\n",
    "v_prob = tf.nn.sigmoid(tf.matmul(h_state, tf.transpose(W)) + vb)\n",
    "print (\"p(vi∣h): \", v_prob)\n",
    "v_state = tf.nn.relu(tf.sign(v_prob - tf.random.uniform(tf.shape(v_prob))))\n",
    "print (\"v probability states: \", v_state)"
   ]
  },
  {
   "cell_type": "markdown",
   "metadata": {},
   "source": [
    "RBM learns a probability distribution over the input, and then, after being trained, the RBM can generate new samples from the learned probability distribution. As you know, <b>probability distribution</b>, is a mathematical function that provides the probabilities of occurrence of different possible outcomes in an experiment.\n",
    "\n",
    "The (conditional) probability distribution over the visible units v is given by\n",
    "\n",
    "$p(\\mathbf{v} \\mid \\mathbf{h}) = \\prod_{i=1}^V p(v_i \\mid \\mathbf{h}),$\n",
    "\n",
    "where,\n",
    "\n",
    "$p(v_i \\mid \\mathbf{h}) = \\sigma\\left(\\sum_{j=1}^H W_{ji} h_j + v_{bias} \\right)$\n",
    "\n",
    "so, given current state of hidden units and weights, what is the probability of generating [1. 0. 0. 1. 0. 0. 0.] in reconstruction phase, based on the above <b>probability distribution</b> function?\n"
   ]
  },
  {
   "cell_type": "code",
   "execution_count": 7,
   "metadata": {},
   "outputs": [
    {
     "name": "stdout",
     "output_type": "stream",
     "text": [
      "input X: [[1. 0. 0. 1. 0. 0. 0.]]\n",
      "probablity vector: [0.8838523  0.70585895 0.5627395  0.2898555  0.25780097 0.68604994\n",
      " 0.45454383]\n",
      "probability of generating X:  0.0041879164\n"
     ]
    }
   ],
   "source": [
    "inp = X\n",
    "print(\"input X:\" , inp.numpy())\n",
    "\n",
    "print(\"probablity vector:\" , v_prob[0].numpy())\n",
    "v_probability = 1\n",
    "\n",
    "for elm, p in zip(inp[0],v_prob[0]) :\n",
    "    if elm ==1:\n",
    "        v_probability *= p\n",
    "    else:\n",
    "        v_probability *= (1-p)\n",
    "\n",
    "print(\"probability of generating X: \" , v_probability.numpy())"
   ]
  },
  {
   "cell_type": "markdown",
   "metadata": {},
   "source": [
    "How similar are vectors $\\mathbf{x}$ and $\\mathbf{v}$? Of course, the reconstructed values most likely will not look anything like the input vector, because our network has not been trained yet. Our objective is to train the model in such a way that the input vector and reconstructed vector to be same. Therefore, based on how different the input values look to the ones that we just reconstructed, the weights are adjusted. \n"
   ]
  },
  {
   "cell_type": "markdown",
   "metadata": {},
   "source": [
    "<hr>\n"
   ]
  },
  {
   "cell_type": "markdown",
   "metadata": {},
   "source": [
    "<h2>MNIST</h2>\n"
   ]
  },
  {
   "cell_type": "markdown",
   "metadata": {},
   "source": [
    "We will be using the MNIST dataset to practice the usage of RBMs. The following cell loads the MNIST dataset.\n"
   ]
  },
  {
   "cell_type": "code",
   "execution_count": 8,
   "metadata": {},
   "outputs": [
    {
     "name": "stdout",
     "output_type": "stream",
     "text": [
      "Downloading data from https://storage.googleapis.com/tensorflow/tf-keras-datasets/mnist.npz\n",
      "11493376/11490434 [==============================] - 0s 0us/step\n"
     ]
    }
   ],
   "source": [
    "#loading training and test data\n",
    "mnist = tf.keras.datasets.mnist\n",
    "(trX, trY), (teX, teY) = mnist.load_data()\n",
    "\n",
    "# showing an example of the Flatten class and operation\n",
    "from tensorflow.keras.layers import Flatten\n",
    "flatten = Flatten(dtype='float32')\n",
    "trX = flatten(trX/255.0)\n",
    "trY = flatten(trY/255.0)"
   ]
  },
  {
   "cell_type": "markdown",
   "metadata": {},
   "source": [
    "Lets look at the dimension of the images.\n"
   ]
  },
  {
   "cell_type": "markdown",
   "metadata": {},
   "source": [
    "MNIST images have 784 pixels, so the visible layer must have 784 input nodes.  For our case, we'll use 50 nodes in the hidden layer, so i = 50.\n"
   ]
  },
  {
   "cell_type": "code",
   "execution_count": 9,
   "metadata": {},
   "outputs": [],
   "source": [
    "vb = tf.Variable(tf.zeros([784]), tf.float32)\n",
    "hb = tf.Variable(tf.zeros([50]), tf.float32)"
   ]
  },
  {
   "cell_type": "markdown",
   "metadata": {},
   "source": [
    "Let $\\mathbf W$ be the Tensor of 784x50 (784 - number of visible neurons, 50 - number of hidden neurons) that represents weights between the neurons. \n"
   ]
  },
  {
   "cell_type": "code",
   "execution_count": 10,
   "metadata": {},
   "outputs": [],
   "source": [
    "W = tf.Variable(tf.zeros([784,50]), tf.float32)"
   ]
  },
  {
   "cell_type": "markdown",
   "metadata": {},
   "source": [
    "Lets define the visible layer:\n"
   ]
  },
  {
   "cell_type": "code",
   "execution_count": 11,
   "metadata": {},
   "outputs": [
    {
     "data": {
      "text/plain": [
       "<tf.Tensor: shape=(1, 50), dtype=float32, numpy=\n",
       "array([[0., 0., 0., 0., 0., 0., 0., 0., 0., 0., 0., 0., 0., 0., 0., 0.,\n",
       "        0., 0., 0., 0., 0., 0., 0., 0., 0., 0., 0., 0., 0., 0., 0., 0.,\n",
       "        0., 0., 0., 0., 0., 0., 0., 0., 0., 0., 0., 0., 0., 0., 0., 0.,\n",
       "        0., 0.]], dtype=float32)>"
      ]
     },
     "execution_count": 11,
     "metadata": {},
     "output_type": "execute_result"
    }
   ],
   "source": [
    "v0_state = tf.Variable(tf.zeros([784]), tf.float32)\n",
    "\n",
    "#testing to see if the matrix product works\n",
    "tf.matmul( [v0_state], W)"
   ]
  },
  {
   "cell_type": "markdown",
   "metadata": {},
   "source": [
    "Now, we can define hidden layer:\n"
   ]
  },
  {
   "cell_type": "code",
   "execution_count": 12,
   "metadata": {},
   "outputs": [
    {
     "name": "stdout",
     "output_type": "stream",
     "text": [
      "h0_state shape:  tf.Tensor([ 1 50], shape=(2,), dtype=int32)\n",
      "first 15 hidden states:  tf.Tensor([0. 0. 0. 1. 1. 1. 0. 0. 0. 0. 1. 1. 0. 1. 0.], shape=(15,), dtype=float32)\n"
     ]
    }
   ],
   "source": [
    "#computing the hidden nodes probability vector and checking shape\n",
    "h0_prob = tf.nn.sigmoid(tf.matmul([v0_state], W) + hb)  #probabilities of the hidden units\n",
    "print(\"h0_state shape: \" , tf.shape(h0_prob))\n",
    "\n",
    "#defining a function to return only the generated hidden states \n",
    "def hidden_layer(v0_state, W, hb):\n",
    "    h0_prob = tf.nn.sigmoid(tf.matmul([v0_state], W) + hb)  #probabilities of the hidden units\n",
    "    h0_state = tf.nn.relu(tf.sign(h0_prob - tf.random.uniform(tf.shape(h0_prob)))) #sample_h_given_X\n",
    "    return h0_state\n",
    "\n",
    "\n",
    "h0_state = hidden_layer(v0_state, W, hb)\n",
    "print(\"first 15 hidden states: \", h0_state[0][0:15])"
   ]
  },
  {
   "cell_type": "markdown",
   "metadata": {},
   "source": [
    "Now, we define reconstruction part:\n"
   ]
  },
  {
   "cell_type": "code",
   "execution_count": 13,
   "metadata": {},
   "outputs": [
    {
     "name": "stdout",
     "output_type": "stream",
     "text": [
      "hidden state shape:  (1, 50)\n",
      "v0 state shape:   (784,)\n",
      "v1 state shape:   (784,)\n"
     ]
    }
   ],
   "source": [
    "def reconstructed_output(h0_state, W, vb):\n",
    "    v1_prob = tf.nn.sigmoid(tf.matmul(h0_state, tf.transpose(W)) + vb) \n",
    "    v1_state = tf.nn.relu(tf.sign(v1_prob - tf.random.uniform(tf.shape(v1_prob)))) #sample_v_given_h\n",
    "    return v1_state[0]\n",
    "\n",
    "v1_state = reconstructed_output(h0_state, W, vb)\n",
    "print(\"hidden state shape: \", h0_state.shape)\n",
    "print(\"v0 state shape:  \", v0_state.shape)\n",
    "print(\"v1 state shape:  \", v1_state.shape)"
   ]
  },
  {
   "cell_type": "markdown",
   "metadata": {},
   "source": [
    "<h3>What is the objective function?</h3>\n",
    "\n",
    "<b>Goal</b>: Maximize the likelihood of our data being drawn from that distribution\n",
    "\n",
    "<b>Calculate error:</b>  \n",
    "In each epoch, we compute the \"error\" as a sum of the squared difference between step 1 and step n,\n",
    "e.g the error shows the difference between the data and its reconstruction.\n",
    "\n",
    "<b>Note:</b> tf.reduce_mean computes the mean of elements across dimensions of a tensor.\n"
   ]
  },
  {
   "cell_type": "code",
   "execution_count": 14,
   "metadata": {},
   "outputs": [
    {
     "name": "stdout",
     "output_type": "stream",
     "text": [
      "error 0.47959185\n"
     ]
    }
   ],
   "source": [
    "def error(v0_state, v1_state):\n",
    "    return tf.reduce_mean(tf.square(v0_state - v1_state))\n",
    "\n",
    "err = tf.reduce_mean(tf.square(v0_state - v1_state))\n",
    "print(\"error\" , err.numpy())"
   ]
  },
  {
   "cell_type": "markdown",
   "metadata": {},
   "source": [
    "<a id=\"ref4\"></a>\n",
    "\n",
    "<h3>Training the Model</h3>\n",
    "<b>Warning...</b> The following part is math-heavy, but you can skip it if you just want to run the cells in the next section.\n",
    "\n",
    "As mentioned, we want to give a high probability to the input data we train on. So, in order to train an RBM, we have to maximize the product of probabilities assigned to all rows $\\mathbf{v}$ (images) in the training set $\\mathbf{V}$ (a matrix, where each row of it is treated as a visible vector $\\mathbf{v}$)\n",
    "\n",
    "$$\\arg\\max_W\\prod_{\\mathbf{v}\\in\\mathbf{V}_T}p(\\mathbf{v}),$$\n",
    "\n",
    "which is equivalent to maximizing the expectation of the log probability, given as\n",
    "\n",
    "$$\\arg\\max_W\\left[ \\mathbb{E} \\left(\\prod_{\\mathbf v\\in \\mathbf V}\\text{log} \\left(p(\\mathbf v)\\right) \\right) \\right].$$\n",
    "\n",
    "So, we have to update the weights $W_{ij}$  to increase $p(\\mathbf{v})$ for all $\\mathbf{v}$ in our training data during training. So we have to calculate the derivative:\n",
    "\n",
    "$$\\frac{\\partial \\log p(\\mathbf v)}{\\partial W_{ij}}$$\n",
    "\n",
    "This cannot be easily done by typical <b>gradient descent (SGD)</b>, so we can use another approach, which has 2 steps:\n",
    "\n",
    "<ol>\n",
    "    <li>Gibbs Sampling</li>\n",
    "    <li>Contrastive Divergence</li>\n",
    "</ol>    \n",
    "    \n",
    "<h3>Gibbs Sampling</h3>   \n",
    "\n",
    "<h4>Gibbs Sampling Step 1</h4> \n",
    "Given an input vector $\\mathbf{v}$, we are using $p(\\mathbf{h}|\\mathbf{v})$ to predict the hidden values $\\mathbf{h}$. \n",
    "  $$p({h_j}|\\mathbf v)= \\sigma\\left(\\sum_{i=1}^V W_{ij} v_i + h_{bias} \\right)$$\n",
    "The samples are generated from this distribution by generating the uniform random variate vector $\\mathbf{\\xi} \\sim U[0,1]$ of length $H$ and comparing to the computed probabilities as\n",
    "\n",
    "<center>If $\\xi_j>p(h_{j}|\\mathbf{v})$, then $h_j=1$, else $h_j=0$.</center>\n",
    "\n",
    "<h4>Gibbs Sampling Step 2</h4> \n",
    "Then, knowing the hidden values, we use $p(\\mathbf v| \\mathbf h)$ for reconstructing of new input values v. \n",
    "\n",
    "   $$p({v_i}|\\mathbf h)= \\sigma\\left(\\sum_{j=1}^H W^{T}_{ij} h_j + v_{bias} \\right)$$\n",
    "\n",
    "The samples are generated from this distribution by generating a uniform random variate vector $\\mathbf{\\xi} \\sim U[0,1]$ of length $V$ and comparing to the computed probabilities as\n",
    "\n",
    "<center>If $\\xi_i>p(v_{i}|\\mathbf{h})$, then $v_i=1$, else $v_i=0$.</center>\n",
    "\n",
    "Let vectors $\\mathbf v_k$ and $\\mathbf h_k$ be for the $k$th iteration.  In general, the $kth$ state is generrated as: \n",
    "\n",
    "<b>Iteration</b> $k$: \n",
    "\n",
    "$$\\mathbf v_{k-1} \\Rightarrow p(\\mathbf h_{k-1}|\\mathbf v_{k-1})\\Rightarrow \\mathbf h_{k-1}\\Rightarrow p(\\mathbf v_{k}|\\mathbf h_{k-1})\\Rightarrow \\mathbf v_k$$       \n",
    "\n",
    "<h3>Contrastive Divergence (CD-k)</h3>\n",
    "The update of the weight matrix is done during the Contrastive Divergence step. \n",
    "\n",
    "Vectors v0 and vk are used to calculate the activation probabilities for hidden values h0 and hk. The difference between the outer products of those probabilities with input vectors v0 and vk results in the update matrix:\n",
    "\n",
    "$\\Delta \\mathbf W_k =\\mathbf v_k \\otimes \\mathbf h_k - \\mathbf v_{k-1} \\otimes \\mathbf h_{k-1}$ \n",
    "\n",
    "Contrastive Divergence is actually matrix of values that is computed and used to adjust values of the $\\mathbf W$ matrix. Changing $\\mathbf W$ incrementally leads to training of the  $\\mathbf W$ values. Then, on each step (epoch), $\\mathbf W$ is updated using the following:\n",
    "\n",
    "$\\mathbf W_k = \\mathbf W_{k-1} + \\alpha * \\Delta \\mathbf W_k$ \n",
    "\n",
    "Reconstruction steps:\n",
    "\n",
    "<ul>\n",
    "    <li> Get one data point from data set, like <i>x</i>, and pass it through the following steps:</li>\n",
    "    \n",
    "<b>Iteration</b> $k=1$: \n",
    "    \n",
    "Sampling (starting with input image)\n",
    "    $$\\mathbf x = \\mathbf v_0 \\Rightarrow p(\\mathbf h_0|\\mathbf v_0)\\Rightarrow \\mathbf h_0 \\Rightarrow p(\\mathbf v_1|\\mathbf h_0)\\Rightarrow \\mathbf v_1$$   \n",
    "    followed by the CD-k step\n",
    "$$\\Delta \\mathbf W_1 =\\mathbf v_1 \\otimes \\mathbf h_1 - \\mathbf v_{0} \\otimes \\mathbf h_{0}$$     \n",
    "$$\\mathbf W_1 = \\mathbf W_{0} + \\alpha * \\Delta \\mathbf W_1$$ \n",
    " \n",
    "<li> $\\mathbf v_1$ is the reconstruction of $\\mathbf x$ sent to the next iteration).</li>\n",
    "\n",
    "<b>Iteration</b> $k=2$: \n",
    "\n",
    "Sampling (starting with $\\mathbf v_1$)\n",
    "\n",
    "$$\\mathbf v_1 \\Rightarrow p(\\mathbf h_1|\\mathbf v_1)\\Rightarrow \\mathbf h_1\\Rightarrow p(\\mathbf v_2|\\mathbf h_1)\\Rightarrow \\mathbf v_2$$   \n",
    "\n",
    "followed by the CD-k step\n",
    "$$\\Delta \\mathbf W_2 =\\mathbf v_2 \\otimes \\mathbf h_2 - \\mathbf v_{1} \\otimes \\mathbf h_{1}$$  \n",
    "$$\\mathbf W_2 = \\mathbf W_{1} + \\alpha * \\Delta \\mathbf W_2$$ \n",
    "\n",
    "<li> $\\mathbf v_2$ is the reconstruction of $\\mathbf v_1$ sent to the next iteration).</li>    \n",
    "      \n",
    "<b>Iteration</b> $k=K$:\n",
    "    \n",
    "Sampling (starting with $\\mathbf v_{K-1}$)\n",
    "\n",
    "$$\\mathbf v_{K-1} \\Rightarrow p(\\mathbf h_{K-1}|\\mathbf v_{K-1})\\Rightarrow \\mathbf h_{K-1}\\Rightarrow p(\\mathbf v_K|\\mathbf h_{K-1})\\Rightarrow \\mathbf v_K$$   \n",
    "\n",
    "followed by the CD-k step\n",
    "$$\\Delta \\mathbf W_K =\\mathbf v_K \\otimes \\mathbf h_K - \\mathbf v_{K-1} \\otimes \\mathbf h_{K-1}$$  \n",
    "$$\\mathbf W_K = \\mathbf W_{K-1} + \\alpha * \\Delta \\mathbf W_K$$ \n",
    "\n",
    "<b>What is $\\alpha$?</b>  \n",
    "Here, alpha is some small step size, and is also known as the \"learning rate\".\n"
   ]
  },
  {
   "cell_type": "markdown",
   "metadata": {},
   "source": [
    "$K$ is adjustable, and good performance can be achieved with $K=1$, so that we just take one set of sampling steps per image.\n"
   ]
  },
  {
   "cell_type": "code",
   "execution_count": 15,
   "metadata": {},
   "outputs": [],
   "source": [
    "h1_prob = tf.nn.sigmoid(tf.matmul([v1_state], W) + hb)\n",
    "h1_state = tf.nn.relu(tf.sign(h1_prob - tf.random.uniform(tf.shape(h1_prob)))) #sample_h_given_X"
   ]
  },
  {
   "cell_type": "markdown",
   "metadata": {},
   "source": [
    "Lets look at the error of the first run:\n"
   ]
  },
  {
   "cell_type": "code",
   "execution_count": 16,
   "metadata": {},
   "outputs": [
    {
     "name": "stdout",
     "output_type": "stream",
     "text": [
      "error:  tf.Tensor(0.47959185, shape=(), dtype=float32)\n"
     ]
    }
   ],
   "source": [
    "print(\"error: \", error(v0_state, v1_state))"
   ]
  },
  {
   "cell_type": "code",
   "execution_count": 17,
   "metadata": {},
   "outputs": [
    {
     "name": "stdout",
     "output_type": "stream",
     "text": [
      "Epoch: 0 batch #: 1  of 300 sample #: 199 reconstruction error: 0.163903\n",
      "Epoch: 0 batch #: 2  of 300 sample #: 199 reconstruction error: 0.205685\n",
      "Epoch: 0 batch #: 3  of 300 sample #: 199 reconstruction error: 0.117713\n",
      "Epoch: 0 batch #: 4  of 300 sample #: 199 reconstruction error: 0.108960\n",
      "Epoch: 0 batch #: 5  of 300 sample #: 199 reconstruction error: 0.101128\n",
      "Epoch: 0 batch #: 6  of 300 sample #: 199 reconstruction error: 0.178881\n",
      "Epoch: 0 batch #: 7  of 300 sample #: 199 reconstruction error: 0.083082\n",
      "Epoch: 0 batch #: 8  of 300 sample #: 199 reconstruction error: 0.110365\n",
      "Epoch: 0 batch #: 9  of 300 sample #: 199 reconstruction error: 0.090143\n",
      "Epoch: 0 batch #: 10  of 300 sample #: 199 reconstruction error: 0.183059\n",
      "Epoch: 0 batch #: 11  of 300 sample #: 199 reconstruction error: 0.090440\n",
      "Epoch: 0 batch #: 12  of 300 sample #: 199 reconstruction error: 0.124756\n",
      "Epoch: 0 batch #: 13  of 300 sample #: 199 reconstruction error: 0.071146\n",
      "Epoch: 0 batch #: 14  of 300 sample #: 199 reconstruction error: 0.120249\n",
      "Epoch: 0 batch #: 15  of 300 sample #: 199 reconstruction error: 0.093178\n",
      "Epoch: 0 batch #: 16  of 300 sample #: 199 reconstruction error: 0.094962\n",
      "Epoch: 0 batch #: 17  of 300 sample #: 199 reconstruction error: 0.073367\n",
      "Epoch: 0 batch #: 18  of 300 sample #: 199 reconstruction error: 0.128303\n",
      "Epoch: 0 batch #: 19  of 300 sample #: 199 reconstruction error: 0.156092\n",
      "Epoch: 0 batch #: 20  of 300 sample #: 199 reconstruction error: 0.108684\n",
      "Epoch: 0 batch #: 21  of 300 sample #: 199 reconstruction error: 0.073102\n",
      "Epoch: 0 batch #: 22  of 300 sample #: 199 reconstruction error: 0.086928\n",
      "Epoch: 0 batch #: 23  of 300 sample #: 199 reconstruction error: 0.111440\n",
      "Epoch: 0 batch #: 24  of 300 sample #: 199 reconstruction error: 0.145072\n",
      "Epoch: 0 batch #: 25  of 300 sample #: 199 reconstruction error: 0.087625\n",
      "Epoch: 0 batch #: 26  of 300 sample #: 199 reconstruction error: 0.102518\n",
      "Epoch: 0 batch #: 27  of 300 sample #: 199 reconstruction error: 0.113475\n",
      "Epoch: 0 batch #: 28  of 300 sample #: 199 reconstruction error: 0.092739\n",
      "Epoch: 0 batch #: 29  of 300 sample #: 199 reconstruction error: 0.099170\n",
      "Epoch: 0 batch #: 30  of 300 sample #: 199 reconstruction error: 0.077183\n",
      "Epoch: 0 batch #: 31  of 300 sample #: 199 reconstruction error: 0.117089\n",
      "Epoch: 0 batch #: 32  of 300 sample #: 199 reconstruction error: 0.114217\n",
      "Epoch: 0 batch #: 33  of 300 sample #: 199 reconstruction error: 0.058812\n",
      "Epoch: 0 batch #: 34  of 300 sample #: 199 reconstruction error: 0.076111\n",
      "Epoch: 0 batch #: 35  of 300 sample #: 199 reconstruction error: 0.072429\n",
      "Epoch: 0 batch #: 36  of 300 sample #: 199 reconstruction error: 0.073639\n",
      "Epoch: 0 batch #: 37  of 300 sample #: 199 reconstruction error: 0.083107\n",
      "Epoch: 0 batch #: 38  of 300 sample #: 199 reconstruction error: 0.064696\n",
      "Epoch: 0 batch #: 39  of 300 sample #: 199 reconstruction error: 0.104042\n",
      "Epoch: 0 batch #: 40  of 300 sample #: 199 reconstruction error: 0.112714\n",
      "Epoch: 0 batch #: 41  of 300 sample #: 199 reconstruction error: 0.074577\n",
      "Epoch: 0 batch #: 42  of 300 sample #: 199 reconstruction error: 0.076239\n",
      "Epoch: 0 batch #: 43  of 300 sample #: 199 reconstruction error: 0.114214\n",
      "Epoch: 0 batch #: 44  of 300 sample #: 199 reconstruction error: 0.069719\n",
      "Epoch: 0 batch #: 45  of 300 sample #: 199 reconstruction error: 0.062378\n",
      "Epoch: 0 batch #: 46  of 300 sample #: 199 reconstruction error: 0.030326\n",
      "Epoch: 0 batch #: 47  of 300 sample #: 199 reconstruction error: 0.041611\n",
      "Epoch: 0 batch #: 48  of 300 sample #: 199 reconstruction error: 0.043778\n",
      "Epoch: 0 batch #: 49  of 300 sample #: 199 reconstruction error: 0.123483\n",
      "Epoch: 0 batch #: 50  of 300 sample #: 199 reconstruction error: 0.045121\n",
      "Epoch: 0 batch #: 51  of 300 sample #: 199 reconstruction error: 0.061720\n",
      "Epoch: 0 batch #: 52  of 300 sample #: 199 reconstruction error: 0.036276\n",
      "Epoch: 0 batch #: 53  of 300 sample #: 199 reconstruction error: 0.102095\n",
      "Epoch: 0 batch #: 54  of 300 sample #: 199 reconstruction error: 0.054580\n",
      "Epoch: 0 batch #: 55  of 300 sample #: 199 reconstruction error: 0.100801\n",
      "Epoch: 0 batch #: 56  of 300 sample #: 199 reconstruction error: 0.059727\n",
      "Epoch: 0 batch #: 57  of 300 sample #: 199 reconstruction error: 0.045258\n",
      "Epoch: 0 batch #: 58  of 300 sample #: 199 reconstruction error: 0.071746\n",
      "Epoch: 0 batch #: 59  of 300 sample #: 199 reconstruction error: 0.059687\n",
      "Epoch: 0 batch #: 60  of 300 sample #: 199 reconstruction error: 0.091809\n",
      "Epoch: 0 batch #: 61  of 300 sample #: 199 reconstruction error: 0.067837\n",
      "Epoch: 0 batch #: 62  of 300 sample #: 199 reconstruction error: 0.083835\n",
      "Epoch: 0 batch #: 63  of 300 sample #: 199 reconstruction error: 0.067006\n",
      "Epoch: 0 batch #: 64  of 300 sample #: 199 reconstruction error: 0.074308\n",
      "Epoch: 0 batch #: 65  of 300 sample #: 199 reconstruction error: 0.091717\n",
      "Epoch: 0 batch #: 66  of 300 sample #: 199 reconstruction error: 0.070470\n",
      "Epoch: 0 batch #: 67  of 300 sample #: 199 reconstruction error: 0.052756\n",
      "Epoch: 0 batch #: 68  of 300 sample #: 199 reconstruction error: 0.058371\n",
      "Epoch: 0 batch #: 69  of 300 sample #: 199 reconstruction error: 0.083918\n",
      "Epoch: 0 batch #: 70  of 300 sample #: 199 reconstruction error: 0.099480\n",
      "Epoch: 0 batch #: 71  of 300 sample #: 199 reconstruction error: 0.086944\n",
      "Epoch: 0 batch #: 72  of 300 sample #: 199 reconstruction error: 0.067058\n",
      "Epoch: 0 batch #: 73  of 300 sample #: 199 reconstruction error: 0.095557\n",
      "Epoch: 0 batch #: 74  of 300 sample #: 199 reconstruction error: 0.086526\n",
      "Epoch: 0 batch #: 75  of 300 sample #: 199 reconstruction error: 0.060678\n",
      "Epoch: 0 batch #: 76  of 300 sample #: 199 reconstruction error: 0.079482\n",
      "Epoch: 0 batch #: 77  of 300 sample #: 199 reconstruction error: 0.104065\n",
      "Epoch: 0 batch #: 78  of 300 sample #: 199 reconstruction error: 0.091479\n",
      "Epoch: 0 batch #: 79  of 300 sample #: 199 reconstruction error: 0.098443\n",
      "Epoch: 0 batch #: 80  of 300 sample #: 199 reconstruction error: 0.025693\n",
      "Epoch: 0 batch #: 81  of 300 sample #: 199 reconstruction error: 0.045357\n",
      "Epoch: 0 batch #: 82  of 300 sample #: 199 reconstruction error: 0.045907\n",
      "Epoch: 0 batch #: 83  of 300 sample #: 199 reconstruction error: 0.094062\n",
      "Epoch: 0 batch #: 84  of 300 sample #: 199 reconstruction error: 0.085056\n",
      "Epoch: 0 batch #: 85  of 300 sample #: 199 reconstruction error: 0.052476\n",
      "Epoch: 0 batch #: 86  of 300 sample #: 199 reconstruction error: 0.087585\n",
      "Epoch: 0 batch #: 87  of 300 sample #: 199 reconstruction error: 0.083188\n",
      "Epoch: 0 batch #: 88  of 300 sample #: 199 reconstruction error: 0.030838\n",
      "Epoch: 0 batch #: 89  of 300 sample #: 199 reconstruction error: 0.058563\n",
      "Epoch: 0 batch #: 90  of 300 sample #: 199 reconstruction error: 0.078896\n",
      "Epoch: 0 batch #: 91  of 300 sample #: 199 reconstruction error: 0.066258\n",
      "Epoch: 0 batch #: 92  of 300 sample #: 199 reconstruction error: 0.065478\n",
      "Epoch: 0 batch #: 93  of 300 sample #: 199 reconstruction error: 0.120029\n",
      "Epoch: 0 batch #: 94  of 300 sample #: 199 reconstruction error: 0.110699\n",
      "Epoch: 0 batch #: 95  of 300 sample #: 199 reconstruction error: 0.078140\n",
      "Epoch: 0 batch #: 96  of 300 sample #: 199 reconstruction error: 0.055471\n",
      "Epoch: 0 batch #: 97  of 300 sample #: 199 reconstruction error: 0.119436\n",
      "Epoch: 0 batch #: 98  of 300 sample #: 199 reconstruction error: 0.092486\n",
      "Epoch: 0 batch #: 99  of 300 sample #: 199 reconstruction error: 0.063383\n",
      "Epoch: 0 batch #: 100  of 300 sample #: 199 reconstruction error: 0.104516\n",
      "Epoch: 0 batch #: 101  of 300 sample #: 199 reconstruction error: 0.076528\n",
      "Epoch: 0 batch #: 102  of 300 sample #: 199 reconstruction error: 0.075719\n",
      "Epoch: 0 batch #: 103  of 300 sample #: 199 reconstruction error: 0.085197\n",
      "Epoch: 0 batch #: 104  of 300 sample #: 199 reconstruction error: 0.071383\n",
      "Epoch: 0 batch #: 105  of 300 sample #: 199 reconstruction error: 0.053508\n",
      "Epoch: 0 batch #: 106  of 300 sample #: 199 reconstruction error: 0.102515\n",
      "Epoch: 0 batch #: 107  of 300 sample #: 199 reconstruction error: 0.152624\n",
      "Epoch: 0 batch #: 108  of 300 sample #: 199 reconstruction error: 0.054261\n",
      "Epoch: 0 batch #: 109  of 300 sample #: 199 reconstruction error: 0.098050\n",
      "Epoch: 0 batch #: 110  of 300 sample #: 199 reconstruction error: 0.053910\n",
      "Epoch: 0 batch #: 111  of 300 sample #: 199 reconstruction error: 0.109015\n",
      "Epoch: 0 batch #: 112  of 300 sample #: 199 reconstruction error: 0.048759\n",
      "Epoch: 0 batch #: 113  of 300 sample #: 199 reconstruction error: 0.077320\n",
      "Epoch: 0 batch #: 114  of 300 sample #: 199 reconstruction error: 0.069312\n",
      "Epoch: 0 batch #: 115  of 300 sample #: 199 reconstruction error: 0.058615\n",
      "Epoch: 0 batch #: 116  of 300 sample #: 199 reconstruction error: 0.059909\n",
      "Epoch: 0 batch #: 117  of 300 sample #: 199 reconstruction error: 0.036720\n",
      "Epoch: 0 batch #: 118  of 300 sample #: 199 reconstruction error: 0.082974\n",
      "Epoch: 0 batch #: 119  of 300 sample #: 199 reconstruction error: 0.111048\n",
      "Epoch: 0 batch #: 120  of 300 sample #: 199 reconstruction error: 0.072995\n",
      "Epoch: 0 batch #: 121  of 300 sample #: 199 reconstruction error: 0.040937\n",
      "Epoch: 0 batch #: 122  of 300 sample #: 199 reconstruction error: 0.096120\n",
      "Epoch: 0 batch #: 123  of 300 sample #: 199 reconstruction error: 0.070936\n",
      "Epoch: 0 batch #: 124  of 300 sample #: 199 reconstruction error: 0.079811\n",
      "Epoch: 0 batch #: 125  of 300 sample #: 199 reconstruction error: 0.044861\n",
      "Epoch: 0 batch #: 126  of 300 sample #: 199 reconstruction error: 0.100513\n",
      "Epoch: 0 batch #: 127  of 300 sample #: 199 reconstruction error: 0.084648\n",
      "Epoch: 0 batch #: 128  of 300 sample #: 199 reconstruction error: 0.068797\n",
      "Epoch: 0 batch #: 129  of 300 sample #: 199 reconstruction error: 0.051395\n",
      "Epoch: 0 batch #: 130  of 300 sample #: 199 reconstruction error: 0.084077\n",
      "Epoch: 0 batch #: 131  of 300 sample #: 199 reconstruction error: 0.065223\n",
      "Epoch: 0 batch #: 132  of 300 sample #: 199 reconstruction error: 0.052158\n",
      "Epoch: 0 batch #: 133  of 300 sample #: 199 reconstruction error: 0.059336\n",
      "Epoch: 0 batch #: 134  of 300 sample #: 199 reconstruction error: 0.101164\n",
      "Epoch: 0 batch #: 135  of 300 sample #: 199 reconstruction error: 0.077256\n",
      "Epoch: 0 batch #: 136  of 300 sample #: 199 reconstruction error: 0.105191\n",
      "Epoch: 0 batch #: 137  of 300 sample #: 199 reconstruction error: 0.083682\n",
      "Epoch: 0 batch #: 138  of 300 sample #: 199 reconstruction error: 0.067035\n",
      "Epoch: 0 batch #: 139  of 300 sample #: 199 reconstruction error: 0.106648\n",
      "Epoch: 0 batch #: 140  of 300 sample #: 199 reconstruction error: 0.081293\n",
      "Epoch: 0 batch #: 141  of 300 sample #: 199 reconstruction error: 0.082445\n",
      "Epoch: 0 batch #: 142  of 300 sample #: 199 reconstruction error: 0.068539\n",
      "Epoch: 0 batch #: 143  of 300 sample #: 199 reconstruction error: 0.060538\n",
      "Epoch: 0 batch #: 144  of 300 sample #: 199 reconstruction error: 0.065527\n",
      "Epoch: 0 batch #: 145  of 300 sample #: 199 reconstruction error: 0.103030\n",
      "Epoch: 0 batch #: 146  of 300 sample #: 199 reconstruction error: 0.101629\n",
      "Epoch: 0 batch #: 147  of 300 sample #: 199 reconstruction error: 0.067939\n",
      "Epoch: 0 batch #: 148  of 300 sample #: 199 reconstruction error: 0.085964\n",
      "Epoch: 0 batch #: 149  of 300 sample #: 199 reconstruction error: 0.043922\n",
      "Epoch: 0 batch #: 150  of 300 sample #: 199 reconstruction error: 0.046071\n",
      "Epoch: 0 batch #: 151  of 300 sample #: 199 reconstruction error: 0.099114\n",
      "Epoch: 0 batch #: 152  of 300 sample #: 199 reconstruction error: 0.090322\n",
      "Epoch: 0 batch #: 153  of 300 sample #: 199 reconstruction error: 0.058747\n",
      "Epoch: 0 batch #: 154  of 300 sample #: 199 reconstruction error: 0.071466\n",
      "Epoch: 0 batch #: 155  of 300 sample #: 199 reconstruction error: 0.059757\n",
      "Epoch: 0 batch #: 156  of 300 sample #: 199 reconstruction error: 0.065318\n",
      "Epoch: 0 batch #: 157  of 300 sample #: 199 reconstruction error: 0.093609\n",
      "Epoch: 0 batch #: 158  of 300 sample #: 199 reconstruction error: 0.072570\n",
      "Epoch: 0 batch #: 159  of 300 sample #: 199 reconstruction error: 0.056585\n",
      "Epoch: 0 batch #: 160  of 300 sample #: 199 reconstruction error: 0.068992\n",
      "Epoch: 0 batch #: 161  of 300 sample #: 199 reconstruction error: 0.091603\n",
      "Epoch: 0 batch #: 162  of 300 sample #: 199 reconstruction error: 0.117360\n",
      "Epoch: 0 batch #: 163  of 300 sample #: 199 reconstruction error: 0.038081\n",
      "Epoch: 0 batch #: 164  of 300 sample #: 199 reconstruction error: 0.064130\n",
      "Epoch: 0 batch #: 165  of 300 sample #: 199 reconstruction error: 0.090684\n",
      "Epoch: 0 batch #: 166  of 300 sample #: 199 reconstruction error: 0.060981\n",
      "Epoch: 0 batch #: 167  of 300 sample #: 199 reconstruction error: 0.099319\n",
      "Epoch: 0 batch #: 168  of 300 sample #: 199 reconstruction error: 0.039077\n",
      "Epoch: 0 batch #: 169  of 300 sample #: 199 reconstruction error: 0.038377\n",
      "Epoch: 0 batch #: 170  of 300 sample #: 199 reconstruction error: 0.065211\n",
      "Epoch: 0 batch #: 171  of 300 sample #: 199 reconstruction error: 0.036073\n",
      "Epoch: 0 batch #: 172  of 300 sample #: 199 reconstruction error: 0.050477\n",
      "Epoch: 0 batch #: 173  of 300 sample #: 199 reconstruction error: 0.093022\n",
      "Epoch: 0 batch #: 174  of 300 sample #: 199 reconstruction error: 0.090631\n",
      "Epoch: 0 batch #: 175  of 300 sample #: 199 reconstruction error: 0.056767\n",
      "Epoch: 0 batch #: 176  of 300 sample #: 199 reconstruction error: 0.050043\n",
      "Epoch: 0 batch #: 177  of 300 sample #: 199 reconstruction error: 0.042365\n",
      "Epoch: 0 batch #: 178  of 300 sample #: 199 reconstruction error: 0.107041\n",
      "Epoch: 0 batch #: 179  of 300 sample #: 199 reconstruction error: 0.101535\n",
      "Epoch: 0 batch #: 180  of 300 sample #: 199 reconstruction error: 0.092950\n",
      "Epoch: 0 batch #: 181  of 300 sample #: 199 reconstruction error: 0.092061\n",
      "Epoch: 0 batch #: 182  of 300 sample #: 199 reconstruction error: 0.067388\n",
      "Epoch: 0 batch #: 183  of 300 sample #: 199 reconstruction error: 0.131083\n",
      "Epoch: 0 batch #: 184  of 300 sample #: 199 reconstruction error: 0.064118\n",
      "Epoch: 0 batch #: 185  of 300 sample #: 199 reconstruction error: 0.091821\n",
      "Epoch: 0 batch #: 186  of 300 sample #: 199 reconstruction error: 0.105320\n",
      "Epoch: 0 batch #: 187  of 300 sample #: 199 reconstruction error: 0.061660\n",
      "Epoch: 0 batch #: 188  of 300 sample #: 199 reconstruction error: 0.104152\n",
      "Epoch: 0 batch #: 189  of 300 sample #: 199 reconstruction error: 0.076951\n",
      "Epoch: 0 batch #: 190  of 300 sample #: 199 reconstruction error: 0.055805\n",
      "Epoch: 0 batch #: 191  of 300 sample #: 199 reconstruction error: 0.103307\n",
      "Epoch: 0 batch #: 192  of 300 sample #: 199 reconstruction error: 0.121355\n",
      "Epoch: 0 batch #: 193  of 300 sample #: 199 reconstruction error: 0.095571\n",
      "Epoch: 0 batch #: 194  of 300 sample #: 199 reconstruction error: 0.070636\n",
      "Epoch: 0 batch #: 195  of 300 sample #: 199 reconstruction error: 0.048164\n",
      "Epoch: 0 batch #: 196  of 300 sample #: 199 reconstruction error: 0.046913\n",
      "Epoch: 0 batch #: 197  of 300 sample #: 199 reconstruction error: 0.060512\n",
      "Epoch: 0 batch #: 198  of 300 sample #: 199 reconstruction error: 0.106561\n",
      "Epoch: 0 batch #: 199  of 300 sample #: 199 reconstruction error: 0.089108\n",
      "Epoch: 0 batch #: 200  of 300 sample #: 199 reconstruction error: 0.086085\n",
      "Epoch: 0 batch #: 201  of 300 sample #: 199 reconstruction error: 0.086321\n",
      "Epoch: 0 batch #: 202  of 300 sample #: 199 reconstruction error: 0.034491\n",
      "Epoch: 0 batch #: 203  of 300 sample #: 199 reconstruction error: 0.090727\n",
      "Epoch: 0 batch #: 204  of 300 sample #: 199 reconstruction error: 0.056056\n",
      "Epoch: 0 batch #: 205  of 300 sample #: 199 reconstruction error: 0.020245\n",
      "Epoch: 0 batch #: 206  of 300 sample #: 199 reconstruction error: 0.065603\n",
      "Epoch: 0 batch #: 207  of 300 sample #: 199 reconstruction error: 0.093533\n",
      "Epoch: 0 batch #: 208  of 300 sample #: 199 reconstruction error: 0.058202\n",
      "Epoch: 0 batch #: 209  of 300 sample #: 199 reconstruction error: 0.031876\n",
      "Epoch: 0 batch #: 210  of 300 sample #: 199 reconstruction error: 0.107880\n",
      "Epoch: 0 batch #: 211  of 300 sample #: 199 reconstruction error: 0.088548\n",
      "Epoch: 0 batch #: 212  of 300 sample #: 199 reconstruction error: 0.089414\n",
      "Epoch: 0 batch #: 213  of 300 sample #: 199 reconstruction error: 0.095751\n",
      "Epoch: 0 batch #: 214  of 300 sample #: 199 reconstruction error: 0.099873\n",
      "Epoch: 0 batch #: 215  of 300 sample #: 199 reconstruction error: 0.023645\n",
      "Epoch: 0 batch #: 216  of 300 sample #: 199 reconstruction error: 0.099572\n",
      "Epoch: 0 batch #: 217  of 300 sample #: 199 reconstruction error: 0.088219\n",
      "Epoch: 0 batch #: 218  of 300 sample #: 199 reconstruction error: 0.061889\n",
      "Epoch: 0 batch #: 219  of 300 sample #: 199 reconstruction error: 0.078559\n",
      "Epoch: 0 batch #: 220  of 300 sample #: 199 reconstruction error: 0.059386\n",
      "Epoch: 0 batch #: 221  of 300 sample #: 199 reconstruction error: 0.094371\n",
      "Epoch: 0 batch #: 222  of 300 sample #: 199 reconstruction error: 0.097170\n",
      "Epoch: 0 batch #: 223  of 300 sample #: 199 reconstruction error: 0.080031\n",
      "Epoch: 0 batch #: 224  of 300 sample #: 199 reconstruction error: 0.060039\n",
      "Epoch: 0 batch #: 225  of 300 sample #: 199 reconstruction error: 0.086675\n",
      "Epoch: 0 batch #: 226  of 300 sample #: 199 reconstruction error: 0.137021\n",
      "Epoch: 0 batch #: 227  of 300 sample #: 199 reconstruction error: 0.076861\n",
      "Epoch: 0 batch #: 228  of 300 sample #: 199 reconstruction error: 0.064405\n",
      "Epoch: 0 batch #: 229  of 300 sample #: 199 reconstruction error: 0.088785\n",
      "Epoch: 0 batch #: 230  of 300 sample #: 199 reconstruction error: 0.023409\n",
      "Epoch: 0 batch #: 231  of 300 sample #: 199 reconstruction error: 0.030921\n",
      "Epoch: 0 batch #: 232  of 300 sample #: 199 reconstruction error: 0.060010\n",
      "Epoch: 0 batch #: 233  of 300 sample #: 199 reconstruction error: 0.082135\n",
      "Epoch: 0 batch #: 234  of 300 sample #: 199 reconstruction error: 0.071139\n",
      "Epoch: 0 batch #: 235  of 300 sample #: 199 reconstruction error: 0.065058\n",
      "Epoch: 0 batch #: 236  of 300 sample #: 199 reconstruction error: 0.098686\n",
      "Epoch: 0 batch #: 237  of 300 sample #: 199 reconstruction error: 0.078935\n",
      "Epoch: 0 batch #: 238  of 300 sample #: 199 reconstruction error: 0.122513\n",
      "Epoch: 0 batch #: 239  of 300 sample #: 199 reconstruction error: 0.027170\n",
      "Epoch: 0 batch #: 240  of 300 sample #: 199 reconstruction error: 0.102813\n",
      "Epoch: 0 batch #: 241  of 300 sample #: 199 reconstruction error: 0.093940\n",
      "Epoch: 0 batch #: 242  of 300 sample #: 199 reconstruction error: 0.073121\n",
      "Epoch: 0 batch #: 243  of 300 sample #: 199 reconstruction error: 0.062082\n",
      "Epoch: 0 batch #: 244  of 300 sample #: 199 reconstruction error: 0.090652\n",
      "Epoch: 0 batch #: 245  of 300 sample #: 199 reconstruction error: 0.065909\n",
      "Epoch: 0 batch #: 246  of 300 sample #: 199 reconstruction error: 0.097504\n",
      "Epoch: 0 batch #: 247  of 300 sample #: 199 reconstruction error: 0.046255\n",
      "Epoch: 0 batch #: 248  of 300 sample #: 199 reconstruction error: 0.075065\n",
      "Epoch: 0 batch #: 249  of 300 sample #: 199 reconstruction error: 0.042595\n",
      "Epoch: 0 batch #: 250  of 300 sample #: 199 reconstruction error: 0.070930\n",
      "Epoch: 0 batch #: 251  of 300 sample #: 199 reconstruction error: 0.056254\n",
      "Epoch: 0 batch #: 252  of 300 sample #: 199 reconstruction error: 0.074734\n",
      "Epoch: 0 batch #: 253  of 300 sample #: 199 reconstruction error: 0.058336\n",
      "Epoch: 0 batch #: 254  of 300 sample #: 199 reconstruction error: 0.032159\n",
      "Epoch: 0 batch #: 255  of 300 sample #: 199 reconstruction error: 0.064106\n",
      "Epoch: 0 batch #: 256  of 300 sample #: 199 reconstruction error: 0.092156\n",
      "Epoch: 0 batch #: 257  of 300 sample #: 199 reconstruction error: 0.084336\n",
      "Epoch: 0 batch #: 258  of 300 sample #: 199 reconstruction error: 0.085707\n",
      "Epoch: 0 batch #: 259  of 300 sample #: 199 reconstruction error: 0.073022\n",
      "Epoch: 0 batch #: 260  of 300 sample #: 199 reconstruction error: 0.091125\n",
      "Epoch: 0 batch #: 261  of 300 sample #: 199 reconstruction error: 0.035918\n",
      "Epoch: 0 batch #: 262  of 300 sample #: 199 reconstruction error: 0.064712\n",
      "Epoch: 0 batch #: 263  of 300 sample #: 199 reconstruction error: 0.083574\n",
      "Epoch: 0 batch #: 264  of 300 sample #: 199 reconstruction error: 0.079377\n",
      "Epoch: 0 batch #: 265  of 300 sample #: 199 reconstruction error: 0.059169\n",
      "Epoch: 0 batch #: 266  of 300 sample #: 199 reconstruction error: 0.037314\n",
      "Epoch: 0 batch #: 267  of 300 sample #: 199 reconstruction error: 0.063059\n",
      "Epoch: 0 batch #: 268  of 300 sample #: 199 reconstruction error: 0.023044\n",
      "Epoch: 0 batch #: 269  of 300 sample #: 199 reconstruction error: 0.088663\n",
      "Epoch: 0 batch #: 270  of 300 sample #: 199 reconstruction error: 0.077650\n",
      "Epoch: 0 batch #: 271  of 300 sample #: 199 reconstruction error: 0.054047\n",
      "Epoch: 0 batch #: 272  of 300 sample #: 199 reconstruction error: 0.050446\n",
      "Epoch: 0 batch #: 273  of 300 sample #: 199 reconstruction error: 0.051196\n",
      "Epoch: 0 batch #: 274  of 300 sample #: 199 reconstruction error: 0.049319\n",
      "Epoch: 0 batch #: 275  of 300 sample #: 199 reconstruction error: 0.101622\n",
      "Epoch: 0 batch #: 276  of 300 sample #: 199 reconstruction error: 0.076988\n",
      "Epoch: 0 batch #: 277  of 300 sample #: 199 reconstruction error: 0.068777\n",
      "Epoch: 0 batch #: 278  of 300 sample #: 199 reconstruction error: 0.067833\n",
      "Epoch: 0 batch #: 279  of 300 sample #: 199 reconstruction error: 0.061440\n",
      "Epoch: 0 batch #: 280  of 300 sample #: 199 reconstruction error: 0.074718\n",
      "Epoch: 0 batch #: 281  of 300 sample #: 199 reconstruction error: 0.065070\n",
      "Epoch: 0 batch #: 282  of 300 sample #: 199 reconstruction error: 0.085588\n",
      "Epoch: 0 batch #: 283  of 300 sample #: 199 reconstruction error: 0.062613\n",
      "Epoch: 0 batch #: 284  of 300 sample #: 199 reconstruction error: 0.066459\n",
      "Epoch: 0 batch #: 285  of 300 sample #: 199 reconstruction error: 0.057122\n",
      "Epoch: 0 batch #: 286  of 300 sample #: 199 reconstruction error: 0.089631\n",
      "Epoch: 0 batch #: 287  of 300 sample #: 199 reconstruction error: 0.072470\n",
      "Epoch: 0 batch #: 288  of 300 sample #: 199 reconstruction error: 0.034120\n",
      "Epoch: 0 batch #: 289  of 300 sample #: 199 reconstruction error: 0.092695\n",
      "Epoch: 0 batch #: 290  of 300 sample #: 199 reconstruction error: 0.088170\n",
      "Epoch: 0 batch #: 291  of 300 sample #: 199 reconstruction error: 0.123839\n",
      "Epoch: 0 batch #: 292  of 300 sample #: 199 reconstruction error: 0.069282\n",
      "Epoch: 0 batch #: 293  of 300 sample #: 199 reconstruction error: 0.061957\n",
      "Epoch: 0 batch #: 294  of 300 sample #: 199 reconstruction error: 0.079215\n",
      "Epoch: 0 batch #: 295  of 300 sample #: 199 reconstruction error: 0.088738\n",
      "Epoch: 0 batch #: 296  of 300 sample #: 199 reconstruction error: 0.029570\n",
      "Epoch: 0 batch #: 297  of 300 sample #: 199 reconstruction error: 0.105117\n",
      "Epoch: 0 batch #: 298  of 300 sample #: 199 reconstruction error: 0.063767\n",
      "Epoch: 0 batch #: 299  of 300 sample #: 199 reconstruction error: 0.058829\n",
      "Epoch: 0 batch #: 300  of 300 sample #: 199 reconstruction error: 0.082915\n"
     ]
    }
   ],
   "source": [
    "#Parameters\n",
    "alpha = 0.01\n",
    "epochs = 1\n",
    "batchsize = 200\n",
    "weights = []\n",
    "errors = []\n",
    "batch_number = 0\n",
    "K = 1\n",
    "\n",
    "#creating datasets\n",
    "train_ds = \\\n",
    "    tf.data.Dataset.from_tensor_slices((trX, trY)).batch(batchsize)\n",
    "\n",
    "for epoch in range(epochs):\n",
    "    for batch_x, batch_y in train_ds:\n",
    "        batch_number += 1\n",
    "        for i_sample in range(batchsize):           \n",
    "            for k in range(K):\n",
    "                v0_state = batch_x[i_sample]\n",
    "                h0_state = hidden_layer(v0_state, W, hb)\n",
    "                v1_state = reconstructed_output(h0_state, W, vb)\n",
    "                h1_state = hidden_layer(v1_state, W, hb)\n",
    "\n",
    "                delta_W = tf.matmul(tf.transpose([v0_state]), h0_state) - tf.matmul(tf.transpose([v1_state]), h1_state)\n",
    "                W = W + alpha * delta_W\n",
    "\n",
    "                vb = vb + alpha * tf.reduce_mean(v0_state - v1_state, 0)\n",
    "                hb = hb + alpha * tf.reduce_mean(h0_state - h1_state, 0) \n",
    "\n",
    "                v0_state = v1_state\n",
    "\n",
    "            if i_sample == batchsize-1:\n",
    "                err = error(batch_x[i_sample], v1_state)\n",
    "                errors.append(err)\n",
    "                weights.append(W)\n",
    "                print ( 'Epoch: %d' % epoch, \n",
    "                       \"batch #: %i \" % batch_number, \"of %i\" % int(60e3/batchsize), \n",
    "                       \"sample #: %i\" % i_sample,\n",
    "                       'reconstruction error: %f' % err)\n",
    "\n"
   ]
  },
  {
   "cell_type": "markdown",
   "metadata": {},
   "source": [
    "Let's take a look at the errors at the end of each batch:\n"
   ]
  },
  {
   "cell_type": "code",
   "execution_count": 18,
   "metadata": {},
   "outputs": [
    {
     "data": {
      "image/png": "[encoded data removed]",
      "text/plain": [
       "<Figure size 432x288 with 1 Axes>"
      ]
     },
     "metadata": {
      "needs_background": "light"
     },
     "output_type": "display_data"
    }
   ],
   "source": [
    "plt.plot(errors)\n",
    "plt.xlabel(\"Batch Number\")\n",
    "plt.ylabel(\"Error\")\n",
    "plt.show()"
   ]
  },
  {
   "cell_type": "markdown",
   "metadata": {},
   "source": [
    "What is the final weight matrix $W$ after training?\n"
   ]
  },
  {
   "cell_type": "code",
   "execution_count": 19,
   "metadata": {},
   "outputs": [
    {
     "name": "stdout",
     "output_type": "stream",
     "text": [
      "[[-0.43999985 -0.28       -0.45999983 ... -0.43999985 -0.5499998\n",
      "  -0.44999984]\n",
      " [-0.45999983 -0.32999995 -0.5299998  ... -0.42999986 -0.4899998\n",
      "  -0.43999985]\n",
      " [-0.40999988 -0.3799999  -0.3899999  ... -0.40999988 -0.5399998\n",
      "  -0.33999994]\n",
      " ...\n",
      " [-0.4999998  -0.34999993 -0.44999984 ... -0.45999983 -0.5099998\n",
      "  -0.33999994]\n",
      " [-0.40999988 -0.28       -0.45999983 ... -0.35999992 -0.56999975\n",
      "  -0.42999986]\n",
      " [-0.44999984 -0.36999992 -0.44999984 ... -0.42999986 -0.45999983\n",
      "  -0.42999986]]\n"
     ]
    }
   ],
   "source": [
    "print(W.numpy()) # a weight matrix of shape (50,784)"
   ]
  },
  {
   "cell_type": "markdown",
   "metadata": {},
   "source": [
    "<a id=\"ref5\"></a>\n",
    "\n",
    "<h3>Learned features</h3> \n"
   ]
  },
  {
   "cell_type": "markdown",
   "metadata": {},
   "source": [
    "We can take each hidden unit and visualize the connections between that hidden unit and each element in the input vector. In our case, we have 50 hidden units. Lets visualize those.\n"
   ]
  },
  {
   "cell_type": "markdown",
   "metadata": {},
   "source": [
    "Let's plot the current weights:\n",
    "<b>tile_raster_images</b> helps in generating an easy to grasp image from a set of samples or weights. It transforms the <b>uw</b> (with one flattened image per row of size 784), into an array (of size $28\\times28$) in which images are reshaped and laid out like tiles on a floor.\n"
   ]
  },
  {
   "cell_type": "code",
   "execution_count": 20,
   "metadata": {},
   "outputs": [
    {
     "data": {
      "image/png": "[encoded data removed]",
      "text/plain": [
       "<Figure size 1296x1296 with 1 Axes>"
      ]
     },
     "metadata": {
      "needs_background": "light"
     },
     "output_type": "display_data"
    }
   ],
   "source": [
    "tile_raster_images(X=W.numpy().T, img_shape=(28, 28), tile_shape=(5, 10), tile_spacing=(1, 1))\n",
    "import matplotlib.pyplot as plt\n",
    "from PIL import Image\n",
    "%matplotlib inline\n",
    "image = Image.fromarray(tile_raster_images(X=W.numpy().T, img_shape=(28, 28) ,tile_shape=(5, 10), tile_spacing=(1, 1)))\n",
    "### Plot image\n",
    "plt.rcParams['figure.figsize'] = (18.0, 18.0)\n",
    "imgplot = plt.imshow(image)\n",
    "imgplot.set_cmap('gray')  "
   ]
  },
  {
   "cell_type": "markdown",
   "metadata": {},
   "source": [
    "Each tile in the above visualization corresponds to a vector of connections between a hidden unit and visible layer's units. \n"
   ]
  },
  {
   "cell_type": "markdown",
   "metadata": {},
   "source": [
    "Let's look at one of the learned weights corresponding to one of hidden units for example. In this particular square, the gray color represents weight = 0, and the whiter it is, the more positive the weights are (closer to 1). Conversely, the darker pixels are, the more negative the weights. The positive pixels will increase the probability of activation in hidden units (after multiplying by input/visible pixels), and negative pixels will decrease the probability of a unit hidden to be 1 (activated). So, why is this important?  So we can see that this specific square (hidden unit) can detect a feature (e.g. a \"/\" shape) and if it exists in the input.\n"
   ]
  },
  {
   "cell_type": "code",
   "execution_count": 21,
   "metadata": {},
   "outputs": [
    {
     "data": {
      "image/png": "[encoded data removed]",
      "text/plain": [
       "<Figure size 288x288 with 1 Axes>"
      ]
     },
     "metadata": {
      "needs_background": "light"
     },
     "output_type": "display_data"
    }
   ],
   "source": [
    "from PIL import Image\n",
    "image = Image.fromarray(tile_raster_images(X =W.numpy().T[10:11], img_shape=(28, 28),tile_shape=(1, 1), tile_spacing=(1, 1)))\n",
    "### Plot image\n",
    "plt.rcParams['figure.figsize'] = (4.0, 4.0)\n",
    "imgplot = plt.imshow(image)\n",
    "imgplot.set_cmap('gray')  "
   ]
  },
  {
   "cell_type": "markdown",
   "metadata": {},
   "source": [
    "Let's look at the reconstruction of an image now. Imagine that we have a destructed image of figure 3. Lets see if our trained network can fix it:\n",
    "\n",
    "First we plot the image:\n"
   ]
  },
  {
   "cell_type": "code",
   "execution_count": 22,
   "metadata": {},
   "outputs": [
    {
     "name": "stdout",
     "output_type": "stream",
     "text": [
      "--2021-06-02 23:58:19--  https://ibm.box.com/shared/static/vvm1b63uvuxq88vbw9znpwu5ol380mco.jpg\n",
      "Resolving ibm.box.com (ibm.box.com)... 107.152.27.197\n",
      "Connecting to ibm.box.com (ibm.box.com)|107.152.27.197|:443... connected.\n",
      "HTTP request sent, awaiting response... 301 Moved Permanently\n",
      "Location: /public/static/vvm1b63uvuxq88vbw9znpwu5ol380mco.jpg [following]\n",
      "--2021-06-02 23:58:20--  https://ibm.box.com/public/static/vvm1b63uvuxq88vbw9znpwu5ol380mco.jpg\n",
      "Reusing existing connection to ibm.box.com:443.\n",
      "HTTP request sent, awaiting response... 301 Moved Permanently\n",
      "Location: https://ibm.ent.box.com/public/static/vvm1b63uvuxq88vbw9znpwu5ol380mco.jpg [following]\n",
      "--2021-06-02 23:58:20--  https://ibm.ent.box.com/public/static/vvm1b63uvuxq88vbw9znpwu5ol380mco.jpg\n",
      "Resolving ibm.ent.box.com (ibm.ent.box.com)... 107.152.27.201\n",
      "Connecting to ibm.ent.box.com (ibm.ent.box.com)|107.152.27.201|:443... connected.\n",
      "HTTP request sent, awaiting response... 302 Found\n",
      "Location: https://public.boxcloud.com/d/1/b1!oq3wiht8KaTMEOx5Vo76pX5sp2N_f_0H_R9a33v-cE9Z1jKNjbDTFe6gWNXL_F3pYhbdNTKx69YaAtXRk5NDzZx5m8rPRScnjgpRTbQfVpGcH5np6QxVJ8ygiK9ZvlBpecXL0Q8ft2Paf1QCFLlv1wqju93X1TjXnu-8pVqQ81YMlde8twNrC3t7iB1JNKJqmn73-FVM2k5wax0QrqhC7OGKpPi_OhsGSXz-m4VECFaYvwM31maDTvIIwKvTCLr-cmf9nlhyPnkKJfREEDkLy1GE0z-Zj3JIr2N1lcdojsdtvYTbNolcDt7dn2aagGvr2I37nvLhRv6Ko0PnFPxypykou0C1cy94-Amrs7VRIWYj-nGpBgXJV82Z2PciLcy1PZ5_3_sGHGTnGfkckiJQM03r8_H-HRqlNrM3XbHdyaag26YBZro-irkIVKzYOQLesB4PLBciAJpSFnPMnA5Lm-yfLq62n-zp6CtPo5ILsBropmaF5vMI20lh-3Kaf9BFlTcsHblfpQCz5YkwSrxKrOYRofDzLuJO7CMdYk1991USNKm57hIdgHy14JMZEaDrwVfoxshDy7NyUuD7gFVPVBHkW13_2LfHUE7fXaGx8Ic_gwazIzHuMNCNAgnlqIpEJPLBwOeq3Xhtw3UN58nZ1o6iEWO8ySowIbjAT8HLcv0ltou4aY7daXQehr_TnJ8x1p9bpkfYpHa5GjFSPm_NAzWvfSCvQeYMflAltCUqURknBKTpk3KZMbCjFSkdtnFVr3-khMS2ub-42WHbeJg_PVRXoG9GkXFQVI6saXLzk8ghcalZdF1B2eYEy4qGTZrSIYkhdctQYYFmwEacXU6ClqFbq_38vQKePzJvmMnRGh90ePfZSMve9csHfEV5bRpJ6frVGLXTG_LFpxU9RRn0iykW77uCt8ukorMGc5w8gUMR1DIQDv1svMhGqL3wS7SqP6OJPS7IW0_OQkt9Iqn9NbBrf20A2eB3NrXRbSAeyQKLGPG40yGdnPYlVGT71N8JXfvdYqgcyj55XAo8lbNqD3bZ68T_dUJVrpCo6Cb54K7NqvqLN97rnykeWaALTdNSg6fwRH-yCUpLz_nuY6M4h3NU6uQ5JX0G-vYkYt1wqC8oXcyl_UDI3J55Gcn9wsVc9UjoyN2itIA1yM1Hc0oDAoCsx-yCYVFGoW5dkskBn2wrM60d4prIfgujscLoeju_3uDw_r3bVqKC9sBk6_tVnkxBPsZRW9R6kVB7jDIpRSpqpyr4Td5YZbdDR6jMqcOotfF1vyDmFd3Mm2LtZKCrCts-FhyzO7MR-VaaTW62Q3GfrqqjNj9WXNdDeVDoeRXSqhZR-G6dlASd2LFoaO6lnjMgCFIz-sB1jvKeYl0QUrzo38vb0ztov4YIbbHYX3bMo8XppTB1mjlmRTrB-hBpg2gEqfqBw7OOL_TG2PZ4DTEmTZor0cLy-ABHaE7Se928/download [following]\n",
      "--2021-06-02 23:58:21--  https://public.boxcloud.com/d/1/b1!oq3wiht8KaTMEOx5Vo76pX5sp2N_f_0H_R9a33v-cE9Z1jKNjbDTFe6gWNXL_F3pYhbdNTKx69YaAtXRk5NDzZx5m8rPRScnjgpRTbQfVpGcH5np6QxVJ8ygiK9ZvlBpecXL0Q8ft2Paf1QCFLlv1wqju93X1TjXnu-8pVqQ81YMlde8twNrC3t7iB1JNKJqmn73-FVM2k5wax0QrqhC7OGKpPi_OhsGSXz-m4VECFaYvwM31maDTvIIwKvTCLr-cmf9nlhyPnkKJfREEDkLy1GE0z-Zj3JIr2N1lcdojsdtvYTbNolcDt7dn2aagGvr2I37nvLhRv6Ko0PnFPxypykou0C1cy94-Amrs7VRIWYj-nGpBgXJV82Z2PciLcy1PZ5_3_sGHGTnGfkckiJQM03r8_H-HRqlNrM3XbHdyaag26YBZro-irkIVKzYOQLesB4PLBciAJpSFnPMnA5Lm-yfLq62n-zp6CtPo5ILsBropmaF5vMI20lh-3Kaf9BFlTcsHblfpQCz5YkwSrxKrOYRofDzLuJO7CMdYk1991USNKm57hIdgHy14JMZEaDrwVfoxshDy7NyUuD7gFVPVBHkW13_2LfHUE7fXaGx8Ic_gwazIzHuMNCNAgnlqIpEJPLBwOeq3Xhtw3UN58nZ1o6iEWO8ySowIbjAT8HLcv0ltou4aY7daXQehr_TnJ8x1p9bpkfYpHa5GjFSPm_NAzWvfSCvQeYMflAltCUqURknBKTpk3KZMbCjFSkdtnFVr3-khMS2ub-42WHbeJg_PVRXoG9GkXFQVI6saXLzk8ghcalZdF1B2eYEy4qGTZrSIYkhdctQYYFmwEacXU6ClqFbq_38vQKePzJvmMnRGh90ePfZSMve9csHfEV5bRpJ6frVGLXTG_LFpxU9RRn0iykW77uCt8ukorMGc5w8gUMR1DIQDv1svMhGqL3wS7SqP6OJPS7IW0_OQkt9Iqn9NbBrf20A2eB3NrXRbSAeyQKLGPG40yGdnPYlVGT71N8JXfvdYqgcyj55XAo8lbNqD3bZ68T_dUJVrpCo6Cb54K7NqvqLN97rnykeWaALTdNSg6fwRH-yCUpLz_nuY6M4h3NU6uQ5JX0G-vYkYt1wqC8oXcyl_UDI3J55Gcn9wsVc9UjoyN2itIA1yM1Hc0oDAoCsx-yCYVFGoW5dkskBn2wrM60d4prIfgujscLoeju_3uDw_r3bVqKC9sBk6_tVnkxBPsZRW9R6kVB7jDIpRSpqpyr4Td5YZbdDR6jMqcOotfF1vyDmFd3Mm2LtZKCrCts-FhyzO7MR-VaaTW62Q3GfrqqjNj9WXNdDeVDoeRXSqhZR-G6dlASd2LFoaO6lnjMgCFIz-sB1jvKeYl0QUrzo38vb0ztov4YIbbHYX3bMo8XppTB1mjlmRTrB-hBpg2gEqfqBw7OOL_TG2PZ4DTEmTZor0cLy-ABHaE7Se928/download\n",
      "Resolving public.boxcloud.com (public.boxcloud.com)... 107.152.29.200\n",
      "Connecting to public.boxcloud.com (public.boxcloud.com)|107.152.29.200|:443... connected.\n",
      "HTTP request sent, awaiting response... 200 OK\n",
      "Length: 24383 (24K) [image/jpeg]\n",
      "Saving to: ‘destructed3.jpg’\n",
      "\n",
      "destructed3.jpg     100%[===================>]  23.81K  --.-KB/s    in 0.02s   \n",
      "\n",
      "2021-06-02 23:58:21 (1.27 MB/s) - ‘destructed3.jpg’ saved [24383/24383]\n",
      "\n"
     ]
    },
    {
     "data": {
      "image/png": "[encoded data removed]",
      "text/plain": [
       "<PIL.JpegImagePlugin.JpegImageFile image mode=RGB size=181x181 at 0x7F921C4350F0>"
      ]
     },
     "execution_count": 22,
     "metadata": {},
     "output_type": "execute_result"
    }
   ],
   "source": [
    "!wget -O destructed3.jpg  https://ibm.box.com/shared/static/vvm1b63uvuxq88vbw9znpwu5ol380mco.jpg\n",
    "img = Image.open('destructed3.jpg')\n",
    "img"
   ]
  },
  {
   "cell_type": "markdown",
   "metadata": {},
   "source": [
    "Now let's pass this image through the neural net:\n"
   ]
  },
  {
   "cell_type": "code",
   "execution_count": 23,
   "metadata": {},
   "outputs": [],
   "source": [
    "# convert the image to a 1d numpy array\n",
    "sample_case = np.array(img.convert('I').resize((28,28))).ravel().reshape((1, -1))/255.0\n",
    "\n",
    "sample_case = tf.cast(sample_case, dtype=tf.float32)"
   ]
  },
  {
   "cell_type": "markdown",
   "metadata": {},
   "source": [
    "Feed the sample case into the network and reconstruct the output:\n"
   ]
  },
  {
   "cell_type": "code",
   "execution_count": 24,
   "metadata": {},
   "outputs": [
    {
     "name": "stdout",
     "output_type": "stream",
     "text": [
      "Probability nodes in hidden layer: tf.Tensor(\n",
      "[[4.8259397e-05 7.8552961e-04 3.1131417e-02 1.0000000e+00 2.6098954e-12\n",
      "  1.0000000e+00 3.2864207e-01 9.3736461e-14 9.8192966e-01 1.0000000e+00\n",
      "  2.6148221e-09 7.4141456e-18 7.5342596e-01 1.4980370e-01 9.9976969e-01\n",
      "  5.5051059e-02 1.7533982e-01 1.1040702e-10 2.0132734e-12 3.4244359e-03\n",
      "  1.7394695e-17 9.9986684e-01 1.5832310e-06 2.6419565e-07 4.4257164e-02\n",
      "  1.9745827e-11 3.9204068e-08 1.0000000e+00 1.6739184e-15 9.9771363e-01\n",
      "  3.3396741e-08 1.3393242e-05 1.0000000e+00 9.9952507e-01 9.9990273e-01\n",
      "  3.0909246e-06 1.2296885e-02 1.0513625e-15 2.4002181e-06 7.0639401e-09\n",
      "  1.2607574e-03 7.8020847e-13 2.7421248e-01 9.9999982e-01 4.1208342e-01\n",
      "  1.6324792e-17 2.8111388e-05 9.6933901e-01 1.0000000e+00 9.9797100e-01]], shape=(1, 50), dtype=float32)\n",
      "activated nodes in hidden layer: tf.Tensor(\n",
      "[[0. 0. 0. 1. 0. 1. 0. 0. 1. 1. 0. 0. 1. 0. 1. 0. 0. 0. 0. 0. 0. 1. 0. 0.\n",
      "  0. 0. 0. 1. 0. 1. 0. 0. 1. 1. 1. 0. 0. 0. 0. 0. 0. 0. 0. 1. 0. 0. 0. 1.\n",
      "  1. 1.]], shape=(1, 50), dtype=float32)\n",
      "tf.Tensor(\n",
      "[[3.77982855e-04 4.85360622e-04 4.13626432e-04 3.31997871e-04\n",
      "  3.09467316e-04 3.03417444e-04 2.80112028e-04 3.42100859e-04\n",
      "  6.42061234e-04 5.80996275e-04 4.52578068e-04 2.80112028e-04\n",
      "  3.30090523e-04 5.10454178e-04 2.48581171e-04 3.90350819e-04\n",
      "  4.17739153e-04 3.70591879e-04 4.61697578e-04 4.01407480e-04\n",
      "  4.57078218e-04 4.85360622e-04 4.48018312e-04 4.80532646e-04\n",
      "  3.52531672e-04 3.97413969e-04 5.63859940e-04 3.66866589e-04\n",
      "  5.00112772e-04 3.55988741e-04 5.20497561e-04 2.94506550e-04\n",
      "  3.79472971e-04 4.48822975e-04 5.93215227e-04 4.78982925e-04\n",
      "  4.63694334e-04 7.51912594e-04 3.55154276e-04 5.76972961e-04\n",
      "  4.20480967e-04 6.28441572e-04 5.35219908e-04 6.52939081e-04\n",
      "  6.46352768e-04 7.10099936e-04 6.08325005e-04 8.15212727e-04\n",
      "  4.59253788e-04 2.93761492e-04 5.49554825e-04 2.61187553e-04\n",
      "  5.10215759e-04 3.97413969e-04 4.66346741e-04 5.41776419e-04\n",
      "  4.09483910e-04 3.42100859e-04 4.38123941e-04 5.71638346e-04\n",
      "  3.42875719e-04 3.09675932e-04 2.97963619e-04 4.72873449e-04\n",
      "  2.70724297e-04 2.17109919e-04 1.02512786e-04 8.89145158e-05\n",
      "  5.29321114e-05 7.45127400e-05 2.29835510e-04 1.75803900e-04\n",
      "  1.95801258e-04 2.67177820e-04 2.36481428e-04 2.13176012e-04\n",
      "  4.92155552e-04 9.90569592e-04 6.99967146e-04 7.33971596e-04\n",
      "  5.28573990e-04 6.13719225e-04 5.92738390e-04 3.45528126e-04\n",
      "  3.06516886e-04 4.85360622e-04 4.72187996e-04 7.01576471e-04\n",
      "  5.48154116e-04 5.35100698e-04 4.33176756e-04 2.34514475e-04\n",
      "  7.36268048e-05 7.30832398e-05 2.62010963e-05 2.14575593e-05\n",
      "  6.25421162e-05 1.79022551e-04 2.98053026e-04 7.79777765e-04\n",
      "  9.91910696e-04 5.25620580e-03 7.82749057e-03 5.50037622e-03\n",
      "  5.28991222e-03 3.10680270e-03 1.90174580e-03 1.18821859e-03\n",
      "  1.04850531e-03 4.24861908e-04 3.09616327e-04 3.38703394e-04\n",
      "  2.91496515e-04 4.99814749e-04 5.03391027e-04 6.38216734e-04\n",
      "  6.08265400e-04 1.33064389e-03 7.97837973e-04 9.40352678e-04\n",
      "  3.01569700e-04 2.59995461e-04 2.67505646e-04 5.00679016e-04\n",
      "  6.62714243e-04 1.99383497e-03 9.42510366e-03 1.15382969e-02\n",
      "  4.53436971e-02 1.95099354e-01 9.77167785e-02 9.57233906e-02\n",
      "  1.01738364e-01 5.41243255e-02 4.12903726e-02 3.98445427e-02\n",
      "  8.22383165e-03 2.54076719e-03 5.46485186e-04 3.20851803e-04\n",
      "  3.45528126e-04 3.59654427e-04 6.60747290e-04 9.57638025e-04\n",
      "  2.29951739e-03 2.28822231e-03 2.08261609e-03 1.74254179e-03\n",
      "  6.03845716e-03 3.83412838e-03 5.09133935e-03 2.17999816e-02\n",
      "  6.16698265e-02 2.05155104e-01 4.86545712e-01 8.13225865e-01\n",
      "  9.08091009e-01 8.88154685e-01 9.18306589e-01 8.49151552e-01\n",
      "  5.88394463e-01 3.64835501e-01 2.14171678e-01 8.03567469e-02\n",
      "  2.78007388e-02 3.81451845e-03 1.14059448e-03 4.88132238e-04\n",
      "  3.97413969e-04 4.78386879e-04 4.07725573e-04 1.12992525e-03\n",
      "  4.08542156e-03 7.95227289e-03 8.40818882e-03 9.64871049e-03\n",
      "  6.08155131e-03 1.75155699e-02 4.49112058e-02 3.47084254e-01\n",
      "  7.47080624e-01 8.95748258e-01 9.59397793e-01 9.46566105e-01\n",
      "  9.20937002e-01 9.49933589e-01 9.18173909e-01 9.61704671e-01\n",
      "  8.15335870e-01 6.25830531e-01 3.29732716e-01 8.18275511e-02\n",
      "  1.86671913e-02 3.21125984e-03 2.47234106e-03 5.21957874e-04\n",
      "  3.66568565e-04 3.64601612e-04 6.33448362e-04 2.91049480e-03\n",
      "  4.36308980e-03 1.42995119e-02 1.07080042e-02 9.95844603e-03\n",
      "  1.20241642e-02 6.08917773e-02 1.90752685e-01 7.33777463e-01\n",
      "  9.21628833e-01 9.67283368e-01 9.35233235e-01 8.62713218e-01\n",
      "  6.99317873e-01 5.32637060e-01 6.65099323e-01 7.87373066e-01\n",
      "  8.55820000e-01 6.06687367e-01 1.62646592e-01 2.95721889e-02\n",
      "  8.30397010e-03 1.02072954e-03 2.08202004e-03 4.63724136e-04\n",
      "  6.81698322e-04 5.18858433e-04 8.13335180e-04 2.96005607e-03\n",
      "  5.39827347e-03 4.09153104e-03 3.92952561e-03 5.29432297e-03\n",
      "  1.64129436e-02 1.22005790e-01 4.50437725e-01 8.21657658e-01\n",
      "  8.76300216e-01 7.06878424e-01 3.67781848e-01 1.68889731e-01\n",
      "  1.10774368e-01 1.09667659e-01 1.65561467e-01 5.37793577e-01\n",
      "  7.16624081e-01 6.28398418e-01 8.26148093e-02 4.19601798e-03\n",
      "  1.64404511e-03 1.12172961e-03 1.48963928e-03 4.53323126e-04\n",
      "  3.30805779e-04 4.08828259e-04 3.09467316e-04 5.28603792e-04\n",
      "  1.98835135e-03 4.48200107e-03 1.58447027e-03 6.41566515e-03\n",
      "  8.73476267e-03 5.63950539e-02 3.75064492e-01 4.73581851e-01\n",
      "  3.26506406e-01 6.57682419e-02 3.70234847e-02 3.36312056e-02\n",
      "  8.59659314e-02 1.18930817e-01 3.00372779e-01 5.98021150e-01\n",
      "  8.82840276e-01 4.73089486e-01 4.87526655e-02 5.16307354e-03\n",
      "  1.34539604e-03 1.43426657e-03 1.06731057e-03 4.72426414e-04\n",
      "  7.90148973e-04 6.03377819e-04 4.28140163e-04 5.52803278e-04\n",
      "  1.14816427e-03 1.77273154e-03 1.44597888e-03 1.95291638e-03\n",
      "  9.80597734e-03 4.55628633e-02 8.34572017e-02 9.12821591e-02\n",
      "  3.52488756e-02 4.28794324e-02 3.00833881e-02 2.07304776e-01\n",
      "  5.26453257e-01 6.30653501e-01 8.32315087e-01 8.69493127e-01\n",
      "  8.35916162e-01 4.74599391e-01 3.38276029e-02 3.63767147e-03\n",
      "  3.08874249e-03 1.03095174e-03 1.21062994e-03 7.27146864e-04\n",
      "  4.05997038e-04 5.48481941e-04 6.88076019e-04 7.22646713e-04\n",
      "  1.36271119e-03 7.73996115e-04 1.44270062e-03 4.40326333e-03\n",
      "  1.35494173e-02 4.11133170e-02 3.56453359e-02 7.98965096e-02\n",
      "  9.14682746e-02 2.10158885e-01 6.81827426e-01 8.15850258e-01\n",
      "  8.91219854e-01 9.20548677e-01 8.68037224e-01 8.42739582e-01\n",
      "  6.48566961e-01 6.76922202e-02 1.26551688e-02 2.10636854e-03\n",
      "  1.54957175e-03 8.39829445e-04 8.37326050e-04 5.14477491e-04\n",
      "  3.71366739e-04 5.80519438e-04 7.24434853e-04 7.56621361e-04\n",
      "  1.08608603e-03 9.02235508e-04 2.27600336e-03 7.42819905e-03\n",
      "  5.35978675e-02 8.85536671e-02 1.80013865e-01 1.78977340e-01\n",
      "  4.76356655e-01 8.67462635e-01 9.54416752e-01 9.86394763e-01\n",
      "  9.75756526e-01 8.49978924e-01 7.34176874e-01 5.16143084e-01\n",
      "  2.60340333e-01 2.90438533e-02 4.83915210e-03 1.04624033e-03\n",
      "  5.92529774e-04 1.17895007e-03 5.48422337e-04 5.21540642e-04\n",
      "  5.76734543e-04 3.77535820e-04 9.24766064e-04 6.36994839e-04\n",
      "  1.91345811e-03 3.23930383e-03 5.81967831e-03 1.52252913e-02\n",
      "  9.85115469e-02 2.44199216e-01 4.99976218e-01 7.24047542e-01\n",
      "  8.90036821e-01 9.64983702e-01 9.62649822e-01 9.74408507e-01\n",
      "  9.38163817e-01 8.15200329e-01 6.45965338e-01 2.81396121e-01\n",
      "  1.12863809e-01 3.30613256e-02 5.85585833e-03 1.88815594e-03\n",
      "  3.41206789e-04 5.92470169e-04 7.82400370e-04 6.26116991e-04\n",
      "  3.14712524e-04 5.10632992e-04 7.57455826e-04 7.69883394e-04\n",
      "  4.64636087e-03 3.94544005e-03 8.17170739e-03 3.83838415e-02\n",
      "  8.66498947e-02 4.68380332e-01 5.95380187e-01 8.42852175e-01\n",
      "  8.88863146e-01 8.97056222e-01 8.67174387e-01 7.95857072e-01\n",
      "  5.96036613e-01 4.82099414e-01 5.80460072e-01 3.23271275e-01\n",
      "  1.25299394e-01 4.07776237e-02 1.63154006e-02 2.57492065e-03\n",
      "  4.88877296e-04 5.45382500e-04 4.78357077e-04 7.03305006e-04\n",
      "  3.53842974e-04 5.30660152e-04 9.86546278e-04 1.73977017e-03\n",
      "  7.95701146e-03 9.52690840e-03 5.03969491e-02 6.91456497e-02\n",
      "  1.46846861e-01 1.60799235e-01 3.41596097e-01 5.41729331e-01\n",
      "  4.89669114e-01 4.79971796e-01 2.90786207e-01 1.67209327e-01\n",
      "  8.70037079e-02 3.57392251e-01 4.62525338e-01 4.03168142e-01\n",
      "  8.31325650e-02 4.52593267e-02 1.53732300e-02 2.32550502e-03\n",
      "  5.78522682e-04 4.51236963e-04 6.54459000e-04 5.36739826e-04\n",
      "  3.29554081e-04 3.23444605e-04 1.04880333e-03 5.65347075e-03\n",
      "  2.76707113e-02 2.36853063e-02 1.08710676e-01 1.69298798e-01\n",
      "  2.33472854e-01 9.99893844e-02 7.42553174e-02 1.44710183e-01\n",
      "  4.11175191e-02 4.54806685e-02 1.21918917e-02 3.29475403e-02\n",
      "  9.35851336e-02 2.16300815e-01 3.77209097e-01 3.90333325e-01\n",
      "  1.19468659e-01 7.21381009e-02 2.13998258e-02 2.68375874e-03\n",
      "  9.66399908e-04 4.52369452e-04 3.72022390e-04 4.61280346e-04\n",
      "  2.66432762e-04 4.14043665e-04 1.51333213e-03 1.66385770e-02\n",
      "  5.49827516e-02 1.03389919e-01 1.42211348e-01 2.14583039e-01\n",
      "  1.45749629e-01 5.19746244e-02 3.54324579e-02 5.80847263e-03\n",
      "  1.61048770e-03 1.33201480e-03 2.91851163e-03 1.12495720e-02\n",
      "  4.39858139e-02 1.94328159e-01 3.55742574e-01 3.50993156e-01\n",
      "  1.21516675e-01 4.45138216e-02 2.36824751e-02 4.55948710e-03\n",
      "  1.07422471e-03 2.75909901e-04 4.90903854e-04 4.89562750e-04\n",
      "  5.52117825e-04 3.62902880e-04 3.77857685e-03 3.28765810e-02\n",
      "  1.19310886e-01 2.12538391e-01 3.27691495e-01 3.48374665e-01\n",
      "  2.33004987e-01 5.86070716e-02 1.07270479e-02 1.46973133e-03\n",
      "  3.52650881e-04 6.01440668e-04 4.80180979e-03 1.93216503e-02\n",
      "  1.12326533e-01 2.53930509e-01 3.65645796e-01 2.80023038e-01\n",
      "  5.85770905e-02 2.93416381e-02 1.94611549e-02 3.07130814e-03\n",
      "  5.99294901e-04 5.13762236e-04 6.46352768e-04 4.44084406e-04\n",
      "  3.23832035e-04 6.92695379e-04 7.41374493e-03 1.20493680e-01\n",
      "  4.00383979e-01 4.63014334e-01 6.39135838e-01 5.90949178e-01\n",
      "  3.39706302e-01 1.09225929e-01 1.96589530e-02 1.79299712e-03\n",
      "  7.65502453e-04 1.00609660e-03 6.87938929e-03 3.76600921e-02\n",
      "  1.79459989e-01 2.81850815e-01 2.42150873e-01 7.86617100e-02\n",
      "  1.94742680e-02 1.18450522e-02 4.52429056e-03 1.44228339e-03\n",
      "  7.21961260e-04 6.74456358e-04 8.46803188e-04 4.31954861e-04\n",
      "  4.57078218e-04 6.27517700e-04 1.76098943e-02 1.70767754e-01\n",
      "  4.81628627e-01 6.81564987e-01 7.85710633e-01 8.21421444e-01\n",
      "  6.03467464e-01 1.44634485e-01 1.75521672e-02 3.89072299e-03\n",
      "  2.99549103e-03 6.75544143e-03 3.13891470e-02 3.98132324e-01\n",
      "  5.53190768e-01 3.91720712e-01 1.25911415e-01 3.59296501e-02\n",
      "  1.05688870e-02 6.52027130e-03 4.13262844e-03 1.50525570e-03\n",
      "  9.89109278e-04 9.02801752e-04 6.50912523e-04 4.63247299e-04\n",
      "  3.64601612e-04 5.30809164e-04 7.31939077e-03 2.54144341e-01\n",
      "  5.34370422e-01 6.00033641e-01 8.21541190e-01 8.96888614e-01\n",
      "  7.28015661e-01 1.18502468e-01 8.15961361e-02 2.16251314e-02\n",
      "  2.53956020e-02 8.04068148e-02 3.91374290e-01 6.79763198e-01\n",
      "  7.06288576e-01 4.95627314e-01 7.92829096e-02 2.77370512e-02\n",
      "  4.69356775e-03 7.86072016e-03 2.25231051e-03 1.84708834e-03\n",
      "  1.14139915e-03 8.22752714e-04 4.76926565e-04 4.45216894e-04\n",
      "  4.45067883e-04 3.20702791e-04 3.58197093e-03 1.05528057e-01\n",
      "  5.01296639e-01 6.58824384e-01 6.69168949e-01 8.80591512e-01\n",
      "  8.50567758e-01 7.20838130e-01 4.79482144e-01 5.34023881e-01\n",
      "  4.91451859e-01 7.42056847e-01 8.90576243e-01 8.53020608e-01\n",
      "  5.30027628e-01 1.08718723e-01 3.91604304e-02 1.32339299e-02\n",
      "  7.94434547e-03 8.92496109e-03 3.65957618e-03 1.78718567e-03\n",
      "  1.85307860e-03 8.83489847e-04 4.28617001e-04 4.68820333e-04\n",
      "  5.15371561e-04 5.98698854e-04 1.45524740e-03 2.99470723e-02\n",
      "  2.45786250e-01 5.99646091e-01 6.65125608e-01 8.14887047e-01\n",
      "  8.79657507e-01 9.25296962e-01 9.44278717e-01 9.49728072e-01\n",
      "  9.32066679e-01 8.53123546e-01 5.91296494e-01 5.20700932e-01\n",
      "  1.97757810e-01 3.00873518e-02 1.71215534e-02 9.51752067e-03\n",
      "  6.07079268e-03 2.82600522e-03 1.37579441e-03 1.22487545e-03\n",
      "  9.76651907e-04 7.53402710e-04 5.60373068e-04 5.80996275e-04\n",
      "  4.17798758e-04 3.38703394e-04 5.45859337e-04 1.88291073e-03\n",
      "  3.15095782e-02 1.35124564e-01 2.29759455e-01 4.35070217e-01\n",
      "  4.76679057e-01 5.69163024e-01 7.36814439e-01 6.02024078e-01\n",
      "  3.83467555e-01 4.73659545e-01 1.68313652e-01 8.70689750e-02\n",
      "  3.00081372e-02 9.75352526e-03 4.03165817e-03 3.04594636e-03\n",
      "  1.98087096e-03 7.35640526e-04 1.45804882e-03 7.90894032e-04\n",
      "  4.36425209e-04 5.46097755e-04 4.45038080e-04 5.36352396e-04\n",
      "  5.25683165e-04 3.35276127e-04 5.00500202e-04 6.69926405e-04\n",
      "  8.85576010e-04 1.14452839e-03 1.79526210e-03 2.84504890e-03\n",
      "  4.75236773e-03 3.78569961e-03 5.86155057e-03 6.39218092e-03\n",
      "  7.08687305e-03 1.35739744e-02 1.60221756e-02 1.08259320e-02\n",
      "  4.53406572e-03 2.72846222e-03 9.63896513e-04 4.10079956e-04\n",
      "  6.79582357e-04 4.79429960e-04 9.05424356e-04 6.71535730e-04\n",
      "  3.56078148e-04 2.59578228e-04 4.99367714e-04 4.57078218e-04\n",
      "  3.89486551e-04 6.95556402e-04 9.20057297e-04 3.79860401e-04\n",
      "  3.04281712e-04 7.77870417e-04 5.54114580e-04 8.96955025e-05\n",
      "  5.04931450e-05 6.23607630e-05 9.18499863e-05 1.14703158e-04\n",
      "  1.95682049e-04 3.70323658e-04 7.24136829e-04 9.30905342e-04\n",
      "  5.22673130e-04 6.80565834e-04 3.55988741e-04 5.50866127e-04\n",
      "  5.35011292e-04 5.26338816e-04 5.74260950e-04 4.65005636e-04\n",
      "  3.84151936e-04 4.06056643e-04 4.17798758e-04 3.06516886e-04\n",
      "  4.48018312e-04 4.05400991e-04 4.61727381e-04 5.52713871e-04\n",
      "  2.87830830e-04 5.68389893e-04 5.57482243e-04 3.48657370e-04\n",
      "  5.07682562e-04 5.26875257e-04 3.34471464e-04 4.69982624e-04\n",
      "  2.62290239e-04 4.25189734e-04 4.04864550e-04 2.92301178e-04\n",
      "  6.46591187e-04 8.44955444e-04 4.99755144e-04 4.56929207e-04\n",
      "  4.70131636e-04 2.20358372e-04 5.48034906e-04 2.68816948e-04\n",
      "  5.30987978e-04 4.05400991e-04 3.59565020e-04 4.43577766e-04]], shape=(1, 784), dtype=float32)\n"
     ]
    }
   ],
   "source": [
    "hh0_p = tf.nn.sigmoid(tf.matmul(sample_case, W) + hb)\n",
    "hh0_s = tf.round(hh0_p)\n",
    "\n",
    "print(\"Probability nodes in hidden layer:\" ,hh0_p)\n",
    "print(\"activated nodes in hidden layer:\" ,hh0_s)\n",
    "\n",
    "# reconstruct\n",
    "vv1_p = tf.nn.sigmoid(tf.matmul(hh0_s, tf.transpose(W)) + vb)\n",
    "\n",
    "print(vv1_p)\n",
    "#rec_prob = sess.run(vv1_p, feed_dict={ hh0_s: hh0_s_val, W: prv_w, vb: prv_vb})"
   ]
  },
  {
   "cell_type": "markdown",
   "metadata": {},
   "source": [
    "Here we plot the reconstructed image:\n"
   ]
  },
  {
   "cell_type": "code",
   "execution_count": 25,
   "metadata": {},
   "outputs": [
    {
     "data": {
      "image/png": "[encoded data removed]",
      "text/plain": [
       "<Figure size 288x288 with 1 Axes>"
      ]
     },
     "metadata": {
      "needs_background": "light"
     },
     "output_type": "display_data"
    }
   ],
   "source": [
    "img = Image.fromarray(tile_raster_images(X=vv1_p.numpy(), img_shape=(28, 28),tile_shape=(1, 1), tile_spacing=(1, 1)))\n",
    "plt.rcParams['figure.figsize'] = (4.0, 4.0)\n",
    "imgplot = plt.imshow(img)\n",
    "imgplot.set_cmap('gray') "
   ]
  },
  {
   "cell_type": "markdown",
   "metadata": {},
   "source": [
    "<hr>\n",
    "\n",
    "## Want to learn more?\n",
    "\n",
    "Running deep learning programs usually needs a high performance platform. **PowerAI** speeds up deep learning and AI. Built on IBM’s Power Systems, **PowerAI** is a scalable software platform that accelerates deep learning and AI with blazing performance for individual users or enterprises. The **PowerAI** platform supports popular machine learning libraries and dependencies including TensorFlow, Caffe, Torch, and Theano. You can use [PowerAI on IMB Cloud](https://cocl.us/ML0120EN_PAI).\n",
    "\n",
    "Also, you can use **Watson Studio** to run these notebooks faster with bigger datasets.**Watson Studio** is IBM’s leading cloud solution for data scientists, built by data scientists. With Jupyter notebooks, RStudio, Apache Spark and popular libraries pre-packaged in the cloud, **Watson Studio** enables data scientists to collaborate on their projects without having to install anything. Join the fast-growing community of **Watson Studio** users today with a free account at [Watson Studio](https://cocl.us/ML0120EN_DSX).This is the end of this lesson. Thank you for reading this notebook, and good luck on your studies.\n"
   ]
  },
  {
   "cell_type": "markdown",
   "metadata": {},
   "source": [
    "### Thanks for completing this lesson!\n",
    "\n",
    "Notebook created by: <a href = \"https://ca.linkedin.com/in/saeedaghabozorgi\">Saeed Aghabozorgi</a>\n",
    "\n",
    "Updated to TF 2.X by  <a href=\"https://ca.linkedin.com/in/nilmeier\"> Jerome Nilmeier</a><br />\n"
   ]
  },
  {
   "cell_type": "markdown",
   "metadata": {},
   "source": [
    "### References:\n",
    "\n",
    "[https://en.wikipedia.org/wiki/Restricted_Boltzmann_machine](https://en.wikipedia.org/wiki/Restricted_Boltzmann_machine?cm_mmc=Email_Newsletter-_-Developer_Ed%2BTech-_-WW_WW-_-SkillsNetwork-Courses-IBMDeveloperSkillsNetwork-DL0120EN-SkillsNetwork-20629446&cm_mmca1=000026UJ&cm_mmca2=10006555&cm_mmca3=M12345678&cvosrc=email.Newsletter.M12345678&cvo_campaign=000026UJ)  \n",
    "[http://deeplearning.net/tutorial/rbm.html](http://deeplearning.net/tutorial/rbm.html?cm_mmc=Email_Newsletter-_-Developer_Ed%2BTech-_-WW_WW-_-SkillsNetwork-Courses-IBMDeveloperSkillsNetwork-DL0120EN-SkillsNetwork-20629446&cm_mmca1=000026UJ&cm_mmca2=10006555&cm_mmca3=M12345678&cvosrc=email.Newsletter.M12345678&cvo_campaign=000026UJ&cm_mmc=Email_Newsletter-_-Developer_Ed%2BTech-_-WW_WW-_-SkillsNetwork-Courses-IBMDeveloperSkillsNetwork-DL0120EN-SkillsNetwork-20629446&cm_mmca1=000026UJ&cm_mmca2=10006555&cm_mmca3=M12345678&cvosrc=email.Newsletter.M12345678&cvo_campaign=000026UJ)  \n",
    "[http://www.cs.utoronto.ca/~hinton/absps/netflixICML.pdf](http://www.cs.utoronto.ca/~hinton/absps/netflixICML.pdf?cm_mmc=Email_Newsletter-_-Developer_Ed%2BTech-_-WW_WW-_-SkillsNetwork-Courses-IBMDeveloperSkillsNetwork-DL0120EN-SkillsNetwork-20629446&cm_mmca1=000026UJ&cm_mmca2=10006555&cm_mmca3=M12345678&cvosrc=email.Newsletter.M12345678&cvo_campaign=000026UJ&cm_mmc=Email_Newsletter-_-Developer_Ed%2BTech-_-WW_WW-_-SkillsNetwork-Courses-IBMDeveloperSkillsNetwork-DL0120EN-SkillsNetwork-20629446&cm_mmca1=000026UJ&cm_mmca2=10006555&cm_mmca3=M12345678&cvosrc=email.Newsletter.M12345678&cvo_campaign=000026UJ)<br>\n",
    "<http://imonad.com/rbm/restricted-boltzmann-machine/>  \n"
   ]
  },
  {
   "cell_type": "markdown",
   "metadata": {},
   "source": [
    "<hr>\n",
    "\n",
    "Copyright © 2018 [Cognitive Class](https://cocl.us/DX0108EN_CC). This notebook and its source code are released under the terms of the [MIT License](https://bigdatauniversity.com/mit-license?cm_mmc=Email_Newsletter-_-Developer_Ed%2BTech-_-WW_WW-_-SkillsNetwork-Courses-IBMDeveloperSkillsNetwork-DL0120EN-SkillsNetwork-20629446&cm_mmca1=000026UJ&cm_mmca2=10006555&cm_mmca3=M12345678&cvosrc=email.Newsletter.M12345678&cvo_campaign=000026UJ&cm_mmc=Email_Newsletter-_-Developer_Ed%2BTech-_-WW_WW-_-SkillsNetwork-Courses-IBMDeveloperSkillsNetwork-DL0120EN-SkillsNetwork-20629446&cm_mmca1=000026UJ&cm_mmca2=10006555&cm_mmca3=M12345678&cvosrc=email.Newsletter.M12345678&cvo_campaign=000026UJ).\n"
   ]
  }
 ],
 "metadata": {
  "kernelspec": {
   "display_name": "Python",
   "language": "python",
   "name": "conda-env-python-py"
  },
  "language_info": {
   "codemirror_mode": {
    "name": "ipython",
    "version": 3
   },
   "file_extension": ".py",
   "mimetype": "text/x-python",
   "name": "python",
   "nbconvert_exporter": "python",
   "pygments_lexer": "ipython3",
   "version": "3.6.13"
  },
  "widgets": {
   "state": {},
   "version": "1.1.2"
  }
 },
 "nbformat": 4,
 "nbformat_minor": 4
}
