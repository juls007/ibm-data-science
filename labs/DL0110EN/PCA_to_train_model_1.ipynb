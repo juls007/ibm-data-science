{
 "cells": [
  {
   "cell_type": "markdown",
   "metadata": {},
   "source": [
    "<img src=\"https://s3-api.us-geo.objectstorage.softlayer.net/cf-courses-data/CognitiveClass/DL0110EN/notebook_images%20/cc-logo-square.png\" width=\"200\" alt=\"cognitiveclass.ai logo\" />\n"
   ]
  },
  {
   "cell_type": "markdown",
   "metadata": {},
   "source": [
    "<h1>Preprocessing with Principle Component Analysis </h1>"
   ]
  },
  {
   "cell_type": "markdown",
   "metadata": {},
   "source": [
    "<h2>Table of Contents</h2>\n",
    "<p>This notebook contains neural networks trained to predict house prices in King County, Washington, USA based on features of the house. They are trained using different preprocessing methods like PCA and Standardization. They are also trained using different Neural Networks with one featuring batch normalization. We will explore the benefits of data preprocessing on our neural networks and how they affect performance.</p>\n",
    "\n",
    "<ul>\n",
    "    <li><a href=\"#UFI\">Utility Functions and Imports </a></li>\n",
    "    <li><a href=\"#MDC\">Dataset Class   </a></li>\n",
    "    <li><a href=\"#DNN\"> Different Neural Networks and Function to Train Neural Network   </a></li>\n",
    "    <li><a href=\"#tv\">Training and Validate Model </a></li>\n",
    "</ul>\n",
    "\n",
    "<p>Estimated Time Needed: <strong>20 min</strong></p>\n",
    "\n",
    "<hr>\n"
   ]
  },
  {
   "cell_type": "markdown",
   "metadata": {},
   "source": [
    "<h2 id=\"UFI\">Utility Functions and Imports </h2>"
   ]
  },
  {
   "cell_type": "code",
   "execution_count": 1,
   "metadata": {},
   "outputs": [],
   "source": [
    "import pandas as pd\n",
    "import numpy as np\n",
    "import torch\n",
    "from sklearn import preprocessing\n",
    "from sklearn.decomposition import PCA\n",
    "from torch.utils.data import Dataset\n",
    "import torch.nn as nn\n",
    "import torchvision.transforms as transforms\n",
    "import torchvision.datasets as dsets\n",
    "import torch.nn.functional as F\n",
    "import matplotlib.pylab as plt\n",
    "torch.manual_seed(1)\n",
    "np.random.seed(1)\n",
    "torch.backends.cudnn.deterministic = True\n",
    "torch.backends.cudnn.benchmark = False\n",
    "from sklearn.model_selection import train_test_split\n",
    "from sklearn import preprocessing"
   ]
  },
  {
   "cell_type": "markdown",
   "metadata": {},
   "source": [
    "Here we load the dataset we will use and the already trained models to save time instead of training from scratch."
   ]
  },
  {
   "cell_type": "code",
   "execution_count": 2,
   "metadata": {},
   "outputs": [
    {
     "name": "stdout",
     "output_type": "stream",
     "text": [
      "--2021-05-10 14:21:34--  https://s3.us.cloud-object-storage.appdomain.cloud/cf-courses-data/CognitiveClass/meet_up/12.02.2020/king_county_house_data.csv\n",
      "Resolving s3.us.cloud-object-storage.appdomain.cloud (s3.us.cloud-object-storage.appdomain.cloud)... 169.45.118.108\n",
      "Connecting to s3.us.cloud-object-storage.appdomain.cloud (s3.us.cloud-object-storage.appdomain.cloud)|169.45.118.108|:443... connected.\n",
      "HTTP request sent, awaiting response... 200 OK\n",
      "Length: 1930704 (1.8M) [text/csv]\n",
      "Saving to: ‘king_county_house_data.csv’\n",
      "\n",
      "king_county_house_d 100%[===================>]   1.84M   655KB/s    in 2.9s    \n",
      "\n",
      "2021-05-10 14:21:38 (655 KB/s) - ‘king_county_house_data.csv’ saved [1930704/1930704]\n",
      "\n",
      "--2021-05-10 14:21:39--  https://s3.us.cloud-object-storage.appdomain.cloud/cf-courses-data/CognitiveClass/meet_up/12.02.2020/pca_model.pt\n",
      "Resolving s3.us.cloud-object-storage.appdomain.cloud (s3.us.cloud-object-storage.appdomain.cloud)... 169.45.118.108\n",
      "Connecting to s3.us.cloud-object-storage.appdomain.cloud (s3.us.cloud-object-storage.appdomain.cloud)|169.45.118.108|:443... connected.\n",
      "HTTP request sent, awaiting response... 200 OK\n",
      "Length: 5088 (5.0K) [application/octet-stream]\n",
      "Saving to: ‘pca_model.pt’\n",
      "\n",
      "pca_model.pt        100%[===================>]   4.97K  --.-KB/s    in 0s      \n",
      "\n",
      "2021-05-10 14:21:39 (129 MB/s) - ‘pca_model.pt’ saved [5088/5088]\n",
      "\n",
      "--2021-05-10 14:21:40--  https://s3.us.cloud-object-storage.appdomain.cloud/cf-courses-data/CognitiveClass/meet_up/12.02.2020/regular_model.pt\n",
      "Resolving s3.us.cloud-object-storage.appdomain.cloud (s3.us.cloud-object-storage.appdomain.cloud)... 169.63.118.104\n",
      "Connecting to s3.us.cloud-object-storage.appdomain.cloud (s3.us.cloud-object-storage.appdomain.cloud)|169.63.118.104|:443... connected.\n",
      "HTTP request sent, awaiting response... 200 OK\n",
      "Length: 11511 (11K) [application/octet-stream]\n",
      "Saving to: ‘regular_model.pt’\n",
      "\n",
      "regular_model.pt    100%[===================>]  11.24K  --.-KB/s    in 0s      \n",
      "\n",
      "2021-05-10 14:21:40 (158 MB/s) - ‘regular_model.pt’ saved [11511/11511]\n",
      "\n",
      "--2021-05-10 14:21:41--  https://s3.us.cloud-object-storage.appdomain.cloud/cf-courses-data/CognitiveClass/meet_up/12.02.2020/standardized_model.pt\n",
      "Resolving s3.us.cloud-object-storage.appdomain.cloud (s3.us.cloud-object-storage.appdomain.cloud)... 169.63.118.104\n",
      "Connecting to s3.us.cloud-object-storage.appdomain.cloud (s3.us.cloud-object-storage.appdomain.cloud)|169.63.118.104|:443... connected.\n",
      "HTTP request sent, awaiting response... 200 OK\n",
      "Length: 8507 (8.3K) [application/octet-stream]\n",
      "Saving to: ‘standardized_model.pt’\n",
      "\n",
      "standardized_model. 100%[===================>]   8.31K  --.-KB/s    in 0s      \n",
      "\n",
      "2021-05-10 14:21:41 (152 MB/s) - ‘standardized_model.pt’ saved [8507/8507]\n",
      "\n"
     ]
    }
   ],
   "source": [
    "!wget https://s3.us.cloud-object-storage.appdomain.cloud/cf-courses-data/CognitiveClass/meet_up/12.02.2020/king_county_house_data.csv\n",
    "!wget https://s3.us.cloud-object-storage.appdomain.cloud/cf-courses-data/CognitiveClass/meet_up/12.02.2020/pca_model.pt\n",
    "!wget https://s3.us.cloud-object-storage.appdomain.cloud/cf-courses-data/CognitiveClass/meet_up/12.02.2020/regular_model.pt\n",
    "!wget https://s3.us.cloud-object-storage.appdomain.cloud/cf-courses-data/CognitiveClass/meet_up/12.02.2020/standardized_model.pt"
   ]
  },
  {
   "cell_type": "markdown",
   "metadata": {},
   "source": [
    "<h2 id=\"DSC\">Dataset Class </h2>"
   ]
  },
  {
   "cell_type": "markdown",
   "metadata": {},
   "source": [
    "Turn the csv into a dataframe"
   ]
  },
  {
   "cell_type": "code",
   "execution_count": 3,
   "metadata": {},
   "outputs": [
    {
     "name": "stdout",
     "output_type": "stream",
     "text": [
      "(21613, 19)\n"
     ]
    },
    {
     "data": {
      "text/html": [
       "<div>\n",
       "<style scoped>\n",
       "    .dataframe tbody tr th:only-of-type {\n",
       "        vertical-align: middle;\n",
       "    }\n",
       "\n",
       "    .dataframe tbody tr th {\n",
       "        vertical-align: top;\n",
       "    }\n",
       "\n",
       "    .dataframe thead th {\n",
       "        text-align: right;\n",
       "    }\n",
       "</style>\n",
       "<table border=\"1\" class=\"dataframe\">\n",
       "  <thead>\n",
       "    <tr style=\"text-align: right;\">\n",
       "      <th></th>\n",
       "      <th>price</th>\n",
       "      <th>bedrooms</th>\n",
       "      <th>bathrooms</th>\n",
       "      <th>sqft_living</th>\n",
       "      <th>sqft_lot</th>\n",
       "      <th>floors</th>\n",
       "      <th>waterfront</th>\n",
       "      <th>view</th>\n",
       "      <th>condition</th>\n",
       "      <th>grade</th>\n",
       "      <th>sqft_above</th>\n",
       "      <th>sqft_basement</th>\n",
       "      <th>yr_built</th>\n",
       "      <th>yr_renovated</th>\n",
       "      <th>zipcode</th>\n",
       "      <th>lat</th>\n",
       "      <th>long</th>\n",
       "      <th>sqft_living15</th>\n",
       "      <th>sqft_lot15</th>\n",
       "    </tr>\n",
       "  </thead>\n",
       "  <tbody>\n",
       "    <tr>\n",
       "      <th>0</th>\n",
       "      <td>221900.0</td>\n",
       "      <td>3</td>\n",
       "      <td>1.00</td>\n",
       "      <td>1180</td>\n",
       "      <td>5650</td>\n",
       "      <td>1.0</td>\n",
       "      <td>0</td>\n",
       "      <td>0</td>\n",
       "      <td>3</td>\n",
       "      <td>7</td>\n",
       "      <td>1180</td>\n",
       "      <td>0</td>\n",
       "      <td>1955</td>\n",
       "      <td>0</td>\n",
       "      <td>98178</td>\n",
       "      <td>47.5112</td>\n",
       "      <td>-122.257</td>\n",
       "      <td>1340</td>\n",
       "      <td>5650</td>\n",
       "    </tr>\n",
       "    <tr>\n",
       "      <th>1</th>\n",
       "      <td>538000.0</td>\n",
       "      <td>3</td>\n",
       "      <td>2.25</td>\n",
       "      <td>2570</td>\n",
       "      <td>7242</td>\n",
       "      <td>2.0</td>\n",
       "      <td>0</td>\n",
       "      <td>0</td>\n",
       "      <td>3</td>\n",
       "      <td>7</td>\n",
       "      <td>2170</td>\n",
       "      <td>400</td>\n",
       "      <td>1951</td>\n",
       "      <td>1991</td>\n",
       "      <td>98125</td>\n",
       "      <td>47.7210</td>\n",
       "      <td>-122.319</td>\n",
       "      <td>1690</td>\n",
       "      <td>7639</td>\n",
       "    </tr>\n",
       "    <tr>\n",
       "      <th>2</th>\n",
       "      <td>180000.0</td>\n",
       "      <td>2</td>\n",
       "      <td>1.00</td>\n",
       "      <td>770</td>\n",
       "      <td>10000</td>\n",
       "      <td>1.0</td>\n",
       "      <td>0</td>\n",
       "      <td>0</td>\n",
       "      <td>3</td>\n",
       "      <td>6</td>\n",
       "      <td>770</td>\n",
       "      <td>0</td>\n",
       "      <td>1933</td>\n",
       "      <td>0</td>\n",
       "      <td>98028</td>\n",
       "      <td>47.7379</td>\n",
       "      <td>-122.233</td>\n",
       "      <td>2720</td>\n",
       "      <td>8062</td>\n",
       "    </tr>\n",
       "    <tr>\n",
       "      <th>3</th>\n",
       "      <td>604000.0</td>\n",
       "      <td>4</td>\n",
       "      <td>3.00</td>\n",
       "      <td>1960</td>\n",
       "      <td>5000</td>\n",
       "      <td>1.0</td>\n",
       "      <td>0</td>\n",
       "      <td>0</td>\n",
       "      <td>5</td>\n",
       "      <td>7</td>\n",
       "      <td>1050</td>\n",
       "      <td>910</td>\n",
       "      <td>1965</td>\n",
       "      <td>0</td>\n",
       "      <td>98136</td>\n",
       "      <td>47.5208</td>\n",
       "      <td>-122.393</td>\n",
       "      <td>1360</td>\n",
       "      <td>5000</td>\n",
       "    </tr>\n",
       "    <tr>\n",
       "      <th>4</th>\n",
       "      <td>510000.0</td>\n",
       "      <td>3</td>\n",
       "      <td>2.00</td>\n",
       "      <td>1680</td>\n",
       "      <td>8080</td>\n",
       "      <td>1.0</td>\n",
       "      <td>0</td>\n",
       "      <td>0</td>\n",
       "      <td>3</td>\n",
       "      <td>8</td>\n",
       "      <td>1680</td>\n",
       "      <td>0</td>\n",
       "      <td>1987</td>\n",
       "      <td>0</td>\n",
       "      <td>98074</td>\n",
       "      <td>47.6168</td>\n",
       "      <td>-122.045</td>\n",
       "      <td>1800</td>\n",
       "      <td>7503</td>\n",
       "    </tr>\n",
       "  </tbody>\n",
       "</table>\n",
       "</div>"
      ],
      "text/plain": [
       "      price  bedrooms  bathrooms  sqft_living  sqft_lot  floors  waterfront  \\\n",
       "0  221900.0         3       1.00         1180      5650     1.0           0   \n",
       "1  538000.0         3       2.25         2570      7242     2.0           0   \n",
       "2  180000.0         2       1.00          770     10000     1.0           0   \n",
       "3  604000.0         4       3.00         1960      5000     1.0           0   \n",
       "4  510000.0         3       2.00         1680      8080     1.0           0   \n",
       "\n",
       "   view  condition  grade  sqft_above  sqft_basement  yr_built  yr_renovated  \\\n",
       "0     0          3      7        1180              0      1955             0   \n",
       "1     0          3      7        2170            400      1951          1991   \n",
       "2     0          3      6         770              0      1933             0   \n",
       "3     0          5      7        1050            910      1965             0   \n",
       "4     0          3      8        1680              0      1987             0   \n",
       "\n",
       "   zipcode      lat     long  sqft_living15  sqft_lot15  \n",
       "0    98178  47.5112 -122.257           1340        5650  \n",
       "1    98125  47.7210 -122.319           1690        7639  \n",
       "2    98028  47.7379 -122.233           2720        8062  \n",
       "3    98136  47.5208 -122.393           1360        5000  \n",
       "4    98074  47.6168 -122.045           1800        7503  "
      ]
     },
     "execution_count": 3,
     "metadata": {},
     "output_type": "execute_result"
    }
   ],
   "source": [
    "df = pd.read_csv('king_county_house_data.csv')\n",
    "print(df.shape)\n",
    "df.head()"
   ]
  },
  {
   "cell_type": "markdown",
   "metadata": {},
   "source": [
    "Create a PyTorch Dataset object to store our dataframe values in. We create 3 type of data one for data with PCA, Standardization, and regular data with no preprocessing."
   ]
  },
  {
   "cell_type": "code",
   "execution_count": 4,
   "metadata": {},
   "outputs": [],
   "source": [
    "class data(Dataset):\n",
    "    \n",
    "    def __init__(self, test=False, regular=False, pca=False, standard=False):\n",
    "        \n",
    "        X = df.drop(columns='price')\n",
    "        Y = df['price']\n",
    "        # Split the data into training data and testing data using a 80/20 split\n",
    "        x_train, x_test, y_train, y_test = train_test_split(X, Y, test_size=.2, random_state=1)\n",
    "        \n",
    "        x_train = x_train.astype(float)\n",
    "        x_test = x_test.astype(float)\n",
    "        \n",
    "        if (regular):\n",
    "            \n",
    "            if (test):\n",
    "                self.x = torch.FloatTensor(x_test.values)\n",
    "                self.y = torch.FloatTensor(y_test.values).view(-1,1)\n",
    "            else:\n",
    "                self.x = torch.FloatTensor(x_train.values)\n",
    "                self.y = torch.FloatTensor(y_train.values).view(-1,1)\n",
    "                \n",
    "        elif (pca):\n",
    "            \n",
    "            # Performs PCA on the data\n",
    "            pca = PCA(whiten=True)\n",
    "            x_train = pca.fit_transform(x_train)\n",
    "            x_test = pca.transform(x_test)\n",
    "            \n",
    "            if (test):\n",
    "                self.x = torch.FloatTensor(x_test)\n",
    "                self.y = torch.FloatTensor(y_test.values).view(-1,1)\n",
    "            else:\n",
    "                self.x = torch.FloatTensor(x_train)\n",
    "                self.y = torch.FloatTensor(y_train.values).view(-1,1)\n",
    "                \n",
    "        else:\n",
    "            \n",
    "            # Performs Standardization on the data\n",
    "            standard = preprocessing.StandardScaler()\n",
    "            x_train = standard.fit_transform(x_train)\n",
    "            x_test = standard.transform(x_test)\n",
    "            \n",
    "            if (test):\n",
    "                self.x = torch.FloatTensor(x_test)\n",
    "                self.y = torch.FloatTensor(y_test.values).view(-1,1)\n",
    "            else:\n",
    "                self.x = torch.FloatTensor(x_train)\n",
    "                self.y = torch.FloatTensor(y_train.values).view(-1,1)\n",
    "\n",
    "    # Getter\n",
    "    def __getitem__(self, index):\n",
    "        return self.x[index], self.y[index]\n",
    "    \n",
    "    def __len__(self):\n",
    "        return len(self.x)"
   ]
  },
  {
   "cell_type": "markdown",
   "metadata": {},
   "source": [
    "<h2 id=\"DNN\">Different Neural Networks and Function to Train Neural Network    </h2>"
   ]
  },
  {
   "cell_type": "markdown",
   "metadata": {},
   "source": [
    "Here we define the Neural Networks we will use. They are both 4 layered networks with 1 input layer, 1 output layer, and 2 hidden layers. THe number of nodes in each layer is 2/3 of the input layer except the output because we are doing regression. They both use relu as the activation function.\n",
    "\n",
    "The difference is that one uses Batch Normalization and one does not."
   ]
  },
  {
   "cell_type": "code",
   "execution_count": 5,
   "metadata": {},
   "outputs": [],
   "source": [
    "class BatchNormalizationNN(nn.Module):\n",
    "    \n",
    "    # Constructor\n",
    "    def __init__(self):\n",
    "        super(BatchNormalizationNN, self).__init__()\n",
    "        # The dataset has 18 features\n",
    "        self.linear1 = nn.Linear(18, 12)\n",
    "        self.b1 = nn.BatchNorm1d(12)\n",
    "        self.linear2 = nn.Linear(12, 8)\n",
    "        self.b2 = nn.BatchNorm1d(8)\n",
    "        self.linear3 = nn.Linear(8, 1)\n",
    "\n",
    "    # Prediction    \n",
    "    def forward(self, x): \n",
    "        y = self.b1(torch.relu(self.linear1(x)))\n",
    "        y = self.b2(torch.relu(self.linear2(y)))\n",
    "        y = self.linear3(y)\n",
    "        return y"
   ]
  },
  {
   "cell_type": "code",
   "execution_count": 6,
   "metadata": {},
   "outputs": [],
   "source": [
    "class RegularNN(nn.Module):\n",
    "    \n",
    "    # Constructor\n",
    "    def __init__(self):\n",
    "        super(RegularNN, self).__init__()\n",
    "        # The dataset has 18 features\n",
    "        self.linear1 = nn.Linear(18, 12)\n",
    "        self.linear2 = nn.Linear(12, 8)\n",
    "        self.linear3 = nn.Linear(8, 1)\n",
    "\n",
    "    # Prediction    \n",
    "    def forward(self, x): \n",
    "        y = torch.relu(self.linear1(x)) \n",
    "        y = torch.relu(self.linear2(y))\n",
    "        y = self.linear3(y)\n",
    "        return y"
   ]
  },
  {
   "cell_type": "markdown",
   "metadata": {},
   "source": [
    "Function performs the training of the models. It is given the training data, testing data, criterion (loss function), model(Neural Network), optimizer, and epochs (Number of times the model is trained on the entire dataset). "
   ]
  },
  {
   "cell_type": "code",
   "execution_count": 7,
   "metadata": {},
   "outputs": [],
   "source": [
    "def train(train_loader, test_loader, criterion, model, optimizer, epochs):\n",
    "    \n",
    "    train_loss = []\n",
    "    test_loss = []\n",
    "    \n",
    "    for epoch in range(epochs):\n",
    "        \n",
    "        print(epoch)\n",
    "        \n",
    "        total_loss = 0\n",
    "        \n",
    "        for i, (x, y) in enumerate(train_loader):\n",
    "            # Set the model in training mode so it updates values in Batch Normalization\n",
    "            model.train()\n",
    "            # Clears the optimizer\n",
    "            optimizer.zero_grad()\n",
    "            # Calculates the prediction the model gives\n",
    "            z = model(x)\n",
    "            # Calculates the loss between the prediction and the actual value\n",
    "            loss = criterion(z, y)\n",
    "            # Calcualates the partial deriviative for each parameter of the Neural Network\n",
    "            loss.backward()\n",
    "            # Adjusts the parameters according to the optimizer\n",
    "            optimizer.step()\n",
    "            total_loss = total_loss + loss.item()\n",
    "        \n",
    "        train_loss.append(total_loss/(len(train_loader.dataset)/train_loader.batch_size))\n",
    "        print(total_loss/(len(train_loader.dataset)/train_loader.batch_size))\n",
    "        \n",
    "        total_loss = 0\n",
    "        \n",
    "        for i, (x, y) in enumerate(test_loader):\n",
    "            # Set the model in evaluation mode so we do not train the Batch Normalization while evaluating our model\n",
    "            model.eval()\n",
    "            z = model(x)\n",
    "            loss = criterion(z, y)\n",
    "            total_loss = total_loss + loss.item()\n",
    "           \n",
    "        test_loss.append(total_loss/len(test_loader.dataset))\n",
    "        print(total_loss/len(test_loader.dataset))\n",
    "        \n",
    "    return train_loss, test_loss"
   ]
  },
  {
   "cell_type": "markdown",
   "metadata": {},
   "source": [
    "<h2 id=\"UFI\">Training and Validate Model  </h2>"
   ]
  },
  {
   "cell_type": "markdown",
   "metadata": {},
   "source": [
    "We have trained the model prior you can load them and use them to run you model."
   ]
  },
  {
   "cell_type": "markdown",
   "metadata": {},
   "source": [
    "Vanilla Neural network "
   ]
  },
  {
   "cell_type": "code",
   "execution_count": 8,
   "metadata": {},
   "outputs": [],
   "source": [
    "RegularModel = RegularNN()\n",
    "checkpoint = torch.load('regular_model.pt')\n",
    "RegularModel.load_state_dict(checkpoint['model_state_dict'])\n",
    "RegularModel.eval()\n",
    "regular_train_loss = checkpoint['train_loss']\n",
    "regular_test_loss = checkpoint['test_loss']"
   ]
  },
  {
   "cell_type": "markdown",
   "metadata": {},
   "source": [
    "Neural network with Batch Norm  "
   ]
  },
  {
   "cell_type": "code",
   "execution_count": 9,
   "metadata": {},
   "outputs": [],
   "source": [
    "PCAModel = BatchNormalizationNN()\n",
    "checkpoint = torch.load('pca_model.pt')\n",
    "PCAModel.load_state_dict(checkpoint['model_state_dict'])\n",
    "PCAModel.eval()\n",
    "pca_train_loss = checkpoint['train_loss']\n",
    "pca_test_loss = checkpoint['test_loss']"
   ]
  },
  {
   "cell_type": "markdown",
   "metadata": {},
   "source": [
    "Neural network with Batch Norm  and Starderdizing the data :"
   ]
  },
  {
   "cell_type": "code",
   "execution_count": 10,
   "metadata": {},
   "outputs": [],
   "source": [
    "StandardModel = BatchNormalizationNN()\n",
    "checkpoint = torch.load('standardized_model.pt')\n",
    "StandardModel.load_state_dict(checkpoint['model_state_dict'])\n",
    "StandardModel.eval()\n",
    "stan_train_loss = checkpoint['train_loss']\n",
    "stan_test_loss = checkpoint['test_loss']"
   ]
  },
  {
   "cell_type": "markdown",
   "metadata": {},
   "source": [
    "## Training"
   ]
  },
  {
   "cell_type": "markdown",
   "metadata": {},
   "source": [
    "The code in the sections below is code to train the models with each type of preprocessing. The training code is saved a raw so it does not accidentally get run as it would take a lot of time to train. The loss function used is SmoothL1Loss and in its current setup it gives the absolute value of the error between the prediction and actual value. The optimizer used is Adadelta, we use this because we do not need to worry about initializing or updating the rate at which the Neural Network learns. If you would like to experiment with the Neural Networks please change the type of the training block to code using the options at the top. "
   ]
  },
  {
   "cell_type": "markdown",
   "metadata": {},
   "source": [
    "## Regular Neural Network       "
   ]
  },
  {
   "cell_type": "markdown",
   "metadata": {},
   "source": [
    "If you would like to train the model yourself. you can convert the following markdown cell to a code.   "
   ]
  },
  {
   "cell_type": "raw",
   "metadata": {},
   "source": [
    "d_train = data(regular=True, test=False)\n",
    "train_loader = torch.utils.data.DataLoader(dataset=d_train, batch_size=500)\n",
    "d_test = data(regular=True, test=True)\n",
    "test_loader = torch.utils.data.DataLoader(dataset=d_test)\n",
    "criterion = nn.SmoothL1Loss()\n",
    "RegularModel = RegularNN()\n",
    "optimizer = torch.optim.Adadelta(RegularModel.parameters())\n",
    "regular_train_loss, regular_test_loss = train(train_loader, test_loader, criterion, RegularModel, optimizer, 10)"
   ]
  },
  {
   "cell_type": "code",
   "execution_count": 11,
   "metadata": {},
   "outputs": [
    {
     "data": {
      "image/png": "[encoded data removed]",
      "text/plain": [
       "<Figure size 432x288 with 1 Axes>"
      ]
     },
     "metadata": {
      "needs_background": "light"
     },
     "output_type": "display_data"
    },
    {
     "name": "stdout",
     "output_type": "stream",
     "text": [
      "144144.02585490167\n"
     ]
    }
   ],
   "source": [
    "plt.plot(regular_train_loss)\n",
    "plt.title(\"Regular Train\")\n",
    "plt.xlabel(\"Epochs\")\n",
    "plt.ylabel(\"Average Loss \")\n",
    "plt.show()\n",
    "print(regular_train_loss[-1])"
   ]
  },
  {
   "cell_type": "code",
   "execution_count": 12,
   "metadata": {},
   "outputs": [
    {
     "data": {
      "image/png": "[encoded data removed]",
      "text/plain": [
       "<Figure size 432x288 with 1 Axes>"
      ]
     },
     "metadata": {
      "needs_background": "light"
     },
     "output_type": "display_data"
    },
    {
     "name": "stdout",
     "output_type": "stream",
     "text": [
      "146410.60966415107\n"
     ]
    }
   ],
   "source": [
    "plt.plot(regular_test_loss)\n",
    "plt.title(\"Regular Validation Data \")\n",
    "plt.xlabel(\"Epochs\")\n",
    "plt.ylabel(\"Average Loss \")\n",
    "plt.show()\n",
    "print(regular_test_loss[-1])"
   ]
  },
  {
   "cell_type": "raw",
   "metadata": {},
   "source": [
    "torch.save({\n",
    "    'epochs': 500,\n",
    "    'model_state_dict': RegularModel.state_dict(),\n",
    "    'train_loss': regular_train_loss,\n",
    "    'test_loss': regular_test_loss\n",
    "}, 'regular_model.pt')"
   ]
  },
  {
   "cell_type": "markdown",
   "metadata": {},
   "source": [
    "## PCA and  Regular Neural Network  "
   ]
  },
  {
   "cell_type": "raw",
   "metadata": {},
   "source": [
    "d_train = data(pca=True, test=False)\n",
    "train_loader = torch.utils.data.DataLoader(dataset=d_train, batch_size=500)\n",
    "d_test = data(pca=True, test=True)\n",
    "test_loader = torch.utils.data.DataLoader(dataset=d_test)\n",
    "criterion = nn.SmoothL1Loss()\n",
    "PCAModel = BatchNormalizationNN()\n",
    "optimizer = torch.optim.Adadelta(PCAModel.parameters())\n",
    "pca_train_loss, pca_test_loss = train(train_loader, test_loader, criterion, PCAModel, optimizer, 60)"
   ]
  },
  {
   "cell_type": "code",
   "execution_count": 13,
   "metadata": {},
   "outputs": [
    {
     "data": {
      "image/png": "[encoded data removed]",
      "text/plain": [
       "<Figure size 432x288 with 1 Axes>"
      ]
     },
     "metadata": {
      "needs_background": "light"
     },
     "output_type": "display_data"
    },
    {
     "name": "stdout",
     "output_type": "stream",
     "text": [
      "78211.1141736553\n"
     ]
    }
   ],
   "source": [
    "plt.plot(pca_train_loss)\n",
    "plt.title(\"PCA Train\")\n",
    "plt.xlabel(\"Epochs\")\n",
    "plt.ylabel(\"Average Loss\")\n",
    "plt.show()\n",
    "print(pca_train_loss[-1])"
   ]
  },
  {
   "cell_type": "code",
   "execution_count": 14,
   "metadata": {},
   "outputs": [
    {
     "data": {
      "image/png": "[encoded data removed]",
      "text/plain": [
       "<Figure size 432x288 with 1 Axes>"
      ]
     },
     "metadata": {
      "needs_background": "light"
     },
     "output_type": "display_data"
    },
    {
     "name": "stdout",
     "output_type": "stream",
     "text": [
      "84856.68404825931\n"
     ]
    }
   ],
   "source": [
    "plt.plot(pca_test_loss)\n",
    "plt.title(\"PCA Validation Data\")\n",
    "plt.xlabel(\"Epochs\")\n",
    "plt.ylabel(\"Average Loss\")\n",
    "plt.show()\n",
    "print(pca_test_loss[-1])"
   ]
  },
  {
   "cell_type": "raw",
   "metadata": {},
   "source": [
    "torch.save({\n",
    "    'epochs': 60,\n",
    "    'model_state_dict': PCAModel.state_dict(),\n",
    "    'train_loss': pca_train_loss,\n",
    "    'test_loss': pca_test_loss\n",
    "}, 'pca_model.pt')"
   ]
  },
  {
   "cell_type": "markdown",
   "metadata": {},
   "source": [
    "## Standardized Data and Neural Network     "
   ]
  },
  {
   "cell_type": "raw",
   "metadata": {
    "jupyter": {
     "outputs_hidden": true
    }
   },
   "source": [
    "d_train = data(standard=True, test=False)\n",
    "train_loader = torch.utils.data.DataLoader(dataset=d_train, batch_size=500)\n",
    "d_test = data(standard=True, test=True)\n",
    "test_loader = torch.utils.data.DataLoader(dataset=d_test)\n",
    "criterion = nn.SmoothL1Loss()\n",
    "StandardModel = BatchNormalizationNN()\n",
    "optimizer = torch.optim.Adadelta(StandardModel.parameters())\n",
    "stan_train_loss, stan_test_loss = train(train_loader, test_loader, criterion, StandardModel, optimizer, 250)"
   ]
  },
  {
   "cell_type": "code",
   "execution_count": 15,
   "metadata": {},
   "outputs": [
    {
     "data": {
      "image/png": "[encoded data removed]",
      "text/plain": [
       "<Figure size 432x288 with 1 Axes>"
      ]
     },
     "metadata": {
      "needs_background": "light"
     },
     "output_type": "display_data"
    },
    {
     "name": "stdout",
     "output_type": "stream",
     "text": [
      "71436.93970503181\n"
     ]
    }
   ],
   "source": [
    "plt.plot(stan_train_loss)\n",
    "plt.title(\"Standardization Train\")\n",
    "plt.xlabel(\"Epochs\")\n",
    "plt.ylabel(\"Average Loss\")\n",
    "plt.show()\n",
    "print(stan_train_loss[-1])"
   ]
  },
  {
   "cell_type": "code",
   "execution_count": 16,
   "metadata": {},
   "outputs": [
    {
     "data": {
      "image/png": "[encoded data removed]",
      "text/plain": [
       "<Figure size 432x288 with 1 Axes>"
      ]
     },
     "metadata": {
      "needs_background": "light"
     },
     "output_type": "display_data"
    },
    {
     "name": "stdout",
     "output_type": "stream",
     "text": [
      "75676.96994997686\n"
     ]
    }
   ],
   "source": [
    "plt.plot(stan_test_loss)\n",
    "plt.title(\"Standardization Validation Data \")\n",
    "plt.xlabel(\"Epochs\")\n",
    "plt.ylabel(\"Average Loss\")\n",
    "plt.show()\n",
    "print(stan_test_loss[-1])"
   ]
  },
  {
   "cell_type": "raw",
   "metadata": {},
   "source": [
    "torch.save({\n",
    "    'epochs': 250,\n",
    "    'model_state_dict': StandardModel.state_dict(),\n",
    "    'train_loss': stan_train_loss,\n",
    "    'test_loss': stan_test_loss\n",
    "}, 'standardized_model.pt')"
   ]
  },
  {
   "cell_type": "markdown",
   "metadata": {},
   "source": [
    "## Viewing the Results"
   ]
  },
  {
   "cell_type": "markdown",
   "metadata": {},
   "source": [
    "The code below will allow you to see the predicted price, actual price, and error for each house in the test dataset.We will use the absolute Loss."
   ]
  },
  {
   "cell_type": "code",
   "execution_count": 17,
   "metadata": {},
   "outputs": [],
   "source": [
    "criterion = nn.SmoothL1Loss()\n",
    "limit = 9"
   ]
  },
  {
   "cell_type": "code",
   "execution_count": 18,
   "metadata": {},
   "outputs": [
    {
     "name": "stdout",
     "output_type": "stream",
     "text": [
      "0\n",
      "Predicted:  607410.1875\n",
      "Actual:  459000.0\n",
      "Loss:  148409.6875\n",
      "1\n",
      "Predicted:  339294.1875\n",
      "Actual:  445000.0\n",
      "Loss:  105705.3125\n",
      "2\n",
      "Predicted:  688367.25\n",
      "Actual:  1057000.0\n",
      "Loss:  368632.25\n",
      "3\n",
      "Predicted:  505426.46875\n",
      "Actual:  732350.0\n",
      "Loss:  226923.03125\n",
      "4\n",
      "Predicted:  257455.5625\n",
      "Actual:  235000.0\n",
      "Loss:  22455.0625\n",
      "5\n",
      "Predicted:  523983.5625\n",
      "Actual:  555000.0\n",
      "Loss:  31015.9375\n",
      "6\n",
      "Predicted:  566012.9375\n",
      "Actual:  365000.0\n",
      "Loss:  201012.4375\n",
      "7\n",
      "Predicted:  879227.6875\n",
      "Actual:  685000.0\n",
      "Loss:  194227.1875\n",
      "8\n",
      "Predicted:  470155.1875\n",
      "Actual:  525000.0\n",
      "Loss:  54844.3125\n",
      "9\n",
      "Predicted:  497320.15625\n",
      "Actual:  449950.0\n",
      "Loss:  47369.65625\n"
     ]
    }
   ],
   "source": [
    "d_test = data(regular=True, test=True)\n",
    "test_loader = torch.utils.data.DataLoader(dataset=d_test)\n",
    "\n",
    "for i, (x, y) in enumerate(test_loader):\n",
    "    RegularModel.eval()\n",
    "    z = RegularModel(x)\n",
    "    loss = criterion(z, y)\n",
    "    print(i)\n",
    "    print('Predicted: ',z.item())\n",
    "    print('Actual: ', y.item())\n",
    "    print('Loss: ', loss.item())\n",
    "    if (i == limit):\n",
    "        break"
   ]
  },
  {
   "cell_type": "code",
   "execution_count": 19,
   "metadata": {},
   "outputs": [
    {
     "name": "stdout",
     "output_type": "stream",
     "text": [
      "0\n",
      "Predicted:  468093.75\n",
      "Actual:  459000.0\n",
      "Loss:  9093.25\n",
      "1\n",
      "Predicted:  419069.25\n",
      "Actual:  445000.0\n",
      "Loss:  25930.25\n",
      "2\n",
      "Predicted:  957651.625\n",
      "Actual:  1057000.0\n",
      "Loss:  99347.875\n",
      "3\n",
      "Predicted:  781107.4375\n",
      "Actual:  732350.0\n",
      "Loss:  48756.9375\n",
      "4\n",
      "Predicted:  261615.625\n",
      "Actual:  235000.0\n",
      "Loss:  26615.125\n",
      "5\n",
      "Predicted:  677885.3125\n",
      "Actual:  555000.0\n",
      "Loss:  122884.8125\n",
      "6\n",
      "Predicted:  421418.875\n",
      "Actual:  365000.0\n",
      "Loss:  56418.375\n",
      "7\n",
      "Predicted:  720739.125\n",
      "Actual:  685000.0\n",
      "Loss:  35738.625\n",
      "8\n",
      "Predicted:  555216.125\n",
      "Actual:  525000.0\n",
      "Loss:  30215.625\n",
      "9\n",
      "Predicted:  437399.90625\n",
      "Actual:  449950.0\n",
      "Loss:  12549.59375\n"
     ]
    }
   ],
   "source": [
    "d_test = data(pca=True, test=True)\n",
    "test_loader = torch.utils.data.DataLoader(dataset=d_test)\n",
    "\n",
    "for i, (x, y) in enumerate(test_loader):\n",
    "    PCAModel.eval()\n",
    "    z = PCAModel(x)\n",
    "    loss = criterion(z, y)\n",
    "    print(i)\n",
    "    print('Predicted: ',z.item())\n",
    "    print('Actual: ', y.item())\n",
    "    print('Loss: ', loss.item())\n",
    "    if (i == limit):\n",
    "        break"
   ]
  },
  {
   "cell_type": "code",
   "execution_count": 20,
   "metadata": {},
   "outputs": [
    {
     "name": "stdout",
     "output_type": "stream",
     "text": [
      "0\n",
      "Predicted:  476262.84375\n",
      "Actual:  459000.0\n",
      "Loss:  17262.34375\n",
      "1\n",
      "Predicted:  419586.8125\n",
      "Actual:  445000.0\n",
      "Loss:  25412.6875\n",
      "2\n",
      "Predicted:  688893.6875\n",
      "Actual:  1057000.0\n",
      "Loss:  368105.8125\n",
      "3\n",
      "Predicted:  709276.5625\n",
      "Actual:  732350.0\n",
      "Loss:  23072.9375\n",
      "4\n",
      "Predicted:  246218.25\n",
      "Actual:  235000.0\n",
      "Loss:  11217.75\n",
      "5\n",
      "Predicted:  612167.1875\n",
      "Actual:  555000.0\n",
      "Loss:  57166.6875\n",
      "6\n",
      "Predicted:  389067.71875\n",
      "Actual:  365000.0\n",
      "Loss:  24067.21875\n",
      "7\n",
      "Predicted:  732669.4375\n",
      "Actual:  685000.0\n",
      "Loss:  47668.9375\n",
      "8\n",
      "Predicted:  569164.375\n",
      "Actual:  525000.0\n",
      "Loss:  44163.875\n",
      "9\n",
      "Predicted:  425183.6875\n",
      "Actual:  449950.0\n",
      "Loss:  24765.8125\n"
     ]
    }
   ],
   "source": [
    "d_test = data(standard=True, test=True)\n",
    "test_loader = torch.utils.data.DataLoader(dataset=d_test)\n",
    "\n",
    "for i, (x, y) in enumerate(test_loader):\n",
    "    StandardModel.eval()\n",
    "    z = StandardModel(x)\n",
    "    loss = criterion(z, y)\n",
    "    print(i)\n",
    "    print('Predicted: ',z.item())\n",
    "    print('Actual: ', y.item())\n",
    "    print('Loss: ', loss.item())\n",
    "    if (i == limit):\n",
    "        break"
   ]
  },
  {
   "cell_type": "markdown",
   "metadata": {},
   "source": [
    "<h2>About the Authors:</h2> \n",
    "<p><a>Azim Hirjani</a></p>\n",
    "<p><a href=\"https://www.linkedin.com/in/joseph-s-50398b136/\">Joseph Santarcangelo</a> has a PhD in Electrical Engineering, his research focused on using machine learning, signal processing, and computer vision to determine how videos impact human cognition. Joseph has been working for IBM since he completed his PhD.</p>"
   ]
  },
  {
   "cell_type": "markdown",
   "metadata": {},
   "source": [
    "Copyright &copy; 2020 <a href=\"cognitiveclass.ai?utm_source=bducopyrightlink&utm_medium=dswb&utm_campaign=bdu\">cognitiveclass.ai</a>. This notebook and its source code are released under the terms of the <a href=\"https://bigdatauniversity.com/mit-license/\">MIT License</a>."
   ]
  },
  {
   "cell_type": "code",
   "execution_count": null,
   "metadata": {},
   "outputs": [],
   "source": []
  }
 ],
 "metadata": {
  "kernelspec": {
   "display_name": "Python",
   "language": "python",
   "name": "conda-env-python-py"
  },
  "language_info": {
   "codemirror_mode": {
    "name": "ipython",
    "version": 3
   },
   "file_extension": ".py",
   "mimetype": "text/x-python",
   "name": "python",
   "nbconvert_exporter": "python",
   "pygments_lexer": "ipython3",
   "version": "3.6.13"
  }
 },
 "nbformat": 4,
 "nbformat_minor": 4
}
